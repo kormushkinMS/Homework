{
 "cells": [
  {
   "cell_type": "code",
   "execution_count": 33,
   "metadata": {},
   "outputs": [
    {
     "name": "stdout",
     "output_type": "stream",
     "text": [
      "[[0.78267905 0.76078225 0.9731101 ]\n",
      " [0.70123202 0.62946703 0.52970687]\n",
      " [0.38522954 0.62131194 0.26110665]\n",
      " [0.56573266 0.25143631 0.92696728]\n",
      " [0.9641425  0.19405582 0.46795424]\n",
      " [0.07833212 0.31305275 0.43753726]\n",
      " [0.44410515 0.4777997  0.71759243]\n",
      " [0.72037609 0.25569306 0.00169975]\n",
      " [0.34267212 0.1695146  0.85908692]\n",
      " [0.85914821 0.12840813 0.32280918]]\n"
     ]
    },
    {
     "data": {
      "text/plain": [
       "array([[0.76078225, 0.52970687, 0.38522954, 0.56573266, 0.46795424,\n",
       "        0.43753726, 0.4777997 , 0.72037609, 0.34267212, 0.32280918]])"
      ]
     },
     "execution_count": 33,
     "metadata": {},
     "output_type": "execute_result"
    }
   ],
   "source": [
    "#1\n",
    "a=np.random.random((10,3))\n",
    "print(a) \n",
    "np.array([a[np.arange(10),np.argmin((abs(a-0.5)),axis=1)]])"
   ]
  },
  {
   "cell_type": "code",
   "execution_count": 66,
   "metadata": {},
   "outputs": [
    {
     "name": "stdout",
     "output_type": "stream",
     "text": [
      "[[0.54938012 0.67432487 0.71211869 0.13846191 0.23069731 0.31973915]\n",
      " [0.84686966 0.87616693 0.74023849 0.86861491 0.9745244  0.43918775]\n",
      " [0.04930059 0.85211163 0.90318844 0.80107128 0.4530225  0.63506087]\n",
      " [0.81580245 0.80402477 0.51547261 0.63819161 0.03011451 0.93850027]\n",
      " [0.04400931 0.93988915 0.45929912 0.83739362 0.97147223 0.23180034]\n",
      " [0.28941824 0.61035942 0.51130632 0.35386671 0.14754591 0.15375094]]\n"
     ]
    },
    {
     "data": {
      "text/plain": [
       "array([[ 59.64015528,   7.77509453,   8.04215627,  27.02624996,\n",
       "        115.68721207,  13.43892597]])"
      ]
     },
     "execution_count": 66,
     "metadata": {},
     "output_type": "execute_result"
    }
   ],
   "source": [
    "#2\n",
    "a=np.random.random((6,6))\n",
    "print(a)\n",
    "np.array([np.sum(a,axis=1)/(a[np.argmin(a,axis=0),np.arange(6)])])"
   ]
  },
  {
   "cell_type": "code",
   "execution_count": 80,
   "metadata": {},
   "outputs": [
    {
     "data": {
      "text/plain": [
       "5"
      ]
     },
     "execution_count": 80,
     "metadata": {},
     "output_type": "execute_result"
    }
   ],
   "source": [
    "#3\n",
    "x = np.array([6, 2, 0, 3, 0, 0, 5, 7, 0])\n",
    "max(x[np.roll(x,1) == 0][1:])\n"
   ]
  },
  {
   "cell_type": "code",
   "execution_count": 4,
   "metadata": {},
   "outputs": [
    {
     "name": "stdout",
     "output_type": "stream",
     "text": [
      "[2. 2. 2. 2. 1. 4. 1. 1. 2. 1.]\n"
     ]
    }
   ],
   "source": [
    "#4\n",
    "x = np.ones(10)\n",
    "i = np.array([0, 1, 2, 3, 5, 5, 5, 8])\n",
    "print(x+np.bincount(i,minlength=10))"
   ]
  },
  {
   "cell_type": "code",
   "execution_count": 114,
   "metadata": {},
   "outputs": [
    {
     "name": "stdout",
     "output_type": "stream",
     "text": [
      "(array([[3.94227822, 6.12191001],\n",
      "       [1.78898054, 4.01584421],\n",
      "       [3.4837013 , 5.52801374]]), 0.3993167936672239)\n",
      "(array([[1.78898054, 4.01584421],\n",
      "       [3.5554264 , 5.55209979],\n",
      "       [3.94057655, 6.17632623]]), 0.39867033910203986)\n"
     ]
    }
   ],
   "source": [
    "#6\n",
    "import numpy as np\n",
    "from scipy.cluster.vq import kmeans #для проверки\n",
    "data = np.loadtxt('http://www.stat.cmu.edu/~larry/all-of-statistics/=data/faithful.dat', skiprows=26)[:, 1:]\n",
    "#data = np.genfromtxt('dataset-dz.csv', delimiter=',', skip_header = 1) #загрузили данные\n",
    "data = data / np.std(data, axis = 0) #отнормировали\n",
    "\n",
    "def k1_means(pts,k,t=20, eps = 1e-05):\n",
    "    n=pts.shape[0] #количество точек\n",
    "    d=pts.shape[1] #размерность наблюдений\n",
    "    ncentr=pts[:k,:] #сначала центроидами берем первые k точек\n",
    "    pts=np.expand_dims(pts,axis=1) #добавление размерности в матрицу точек\n",
    "    centr=np.zeros((k,d))\n",
    "    ndistort=256\n",
    "    distort=0\n",
    "    i=0\n",
    "    while np.abs(ndistort-distort) > eps and i<t:\n",
    "        centr=ncentr\n",
    "        distort=ndistort\n",
    "        clust=np.argmin(((pts-ncentr)**2).sum(axis=2),axis=1) #по правилу бродкастинга pts-ncentr это матрица n*k*m\n",
    "        M=np.zeros(n*k*d).reshape(n,k,d)\n",
    "        M[np.arange(n),clust]=(pts-ncentr)[np.arange(n),clust]/np.bincount(clust)[clust].reshape(n, 1)\n",
    "        ncentr=centr+M.sum(axis=0)\n",
    "        clust=np.argmin(((pts-ncentr)**2).sum(axis=2),axis=1) #массив в котором на iом месте стоит номер кластера для iой точки\n",
    "        M=np.zeros(n*k*d).reshape(n,k,d)\n",
    "        M[np.arange(n),clust]=(pts-ncentr)[np.arange(n),clust]\n",
    "        ndistort=np.sqrt((M ** 2).sum(axis=2)).sum(axis=1).mean()\n",
    "        i=i+1\n",
    "    return ncentr, ndistort\n",
    "print(k1_means(data,3))\n",
    "print(kmeans(data,3))\n",
    "\n",
    "\n",
    "                                \n",
    "        \n",
    "    \n"
   ]
  },
  {
   "cell_type": "code",
   "execution_count": 117,
   "metadata": {},
   "outputs": [
    {
     "name": "stdout",
     "output_type": "stream",
     "text": [
      "[[ 0  1  2  3]\n",
      " [ 4  5  6  7]\n",
      " [ 8  9 10 11]\n",
      " [12 13 14 15]]\n"
     ]
    },
    {
     "data": {
      "text/plain": [
       "[array([0]),\n",
       " array([1, 4]),\n",
       " array([2, 5, 8]),\n",
       " array([ 3,  6,  9, 12]),\n",
       " array([ 7, 10, 13]),\n",
       " array([11, 14])]"
      ]
     },
     "execution_count": 117,
     "metadata": {},
     "output_type": "execute_result"
    }
   ],
   "source": [
    "#5\n",
    "a = np.arange(16).reshape(4, 4)\n",
    "print(a)\n",
    "b=[np.diagonal(a[:,::-1],k) for k in range (3,-3,-1)]\n",
    "b\n"
   ]
  },
  {
   "cell_type": "code",
   "execution_count": null,
   "metadata": {},
   "outputs": [],
   "source": []
  }
 ],
 "metadata": {
  "kernelspec": {
   "display_name": "Python 3",
   "language": "python",
   "name": "python3"
  },
  "language_info": {
   "codemirror_mode": {
    "name": "ipython",
    "version": 3
   },
   "file_extension": ".py",
   "mimetype": "text/x-python",
   "name": "python",
   "nbconvert_exporter": "python",
   "pygments_lexer": "ipython3",
   "version": "3.7.0"
  }
 },
 "nbformat": 4,
 "nbformat_minor": 2
}
