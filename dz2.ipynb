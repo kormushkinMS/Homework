{
 "cells": [
  {
   "cell_type": "code",
   "execution_count": 2,
   "metadata": {},
   "outputs": [
    {
     "name": "stdout",
     "output_type": "stream",
     "text": [
      "[[0.11528453 0.84393978 0.45539467]\n",
      " [0.95337167 0.24699759 0.6275437 ]\n",
      " [0.05424102 0.26487799 0.87917069]\n",
      " [0.33037101 0.83046828 0.09366002]\n",
      " [0.43351639 0.95460769 0.6759445 ]\n",
      " [0.86264765 0.46568359 0.284779  ]\n",
      " [0.66574144 0.96226736 0.51895292]\n",
      " [0.86824513 0.61086576 0.06775266]\n",
      " [0.42702284 0.36760297 0.49706294]\n",
      " [0.87849436 0.06699459 0.57040974]]\n"
     ]
    },
    {
     "data": {
      "text/plain": [
       "0"
      ]
     },
     "execution_count": 2,
     "metadata": {},
     "output_type": "execute_result"
    }
   ],
   "source": [
    "import numpy as np\n",
    "import math as m\n",
    "a = np.random.random((10,3))\n",
    "print(a)\n",
    "a[0,:].argmin()\n",
    "\n",
    "\n"
   ]
  },
  {
   "cell_type": "code",
   "execution_count": 23,
   "metadata": {},
   "outputs": [
    {
     "name": "stdout",
     "output_type": "stream",
     "text": [
      "[[0 1 2]\n",
      " [3 4 5]\n",
      " [6 7 8]]\n",
      "[ 9 12 15]\n"
     ]
    }
   ],
   "source": [
    "a=np.arange(9).reshape(3,3)\n",
    "print(a)\n",
    "b=a.sum(axis=0)\n",
    "print(b)"
   ]
  },
  {
   "cell_type": "code",
   "execution_count": 17,
   "metadata": {},
   "outputs": [
    {
     "name": "stdout",
     "output_type": "stream",
     "text": [
      "[[0.6399149  0.10889085 0.05875822]\n",
      " [0.95857468 0.55767775 0.83010157]\n",
      " [0.90468131 0.70180839 0.95000842]\n",
      " [0.50462565 0.23295805 0.74086264]\n",
      " [0.93183021 0.75971078 0.79434058]\n",
      " [0.16026996 0.36076412 0.32187123]\n",
      " [0.85147384 0.13367919 0.27990867]\n",
      " [0.25191962 0.94394798 0.72591498]\n",
      " [0.47318166 0.97388966 0.86915761]\n",
      " [0.54051325 0.77115815 0.77811419]]\n"
     ]
    },
    {
     "data": {
      "text/plain": [
       "9"
      ]
     },
     "execution_count": 17,
     "metadata": {},
     "output_type": "execute_result"
    }
   ],
   "source": [
    "a=np.random.random((10,3))\n",
    "print(a)\n",
    "(abs(a-0.5)).argmin()\n",
    "\n"
   ]
  },
  {
   "cell_type": "code",
   "execution_count": 33,
   "metadata": {},
   "outputs": [
    {
     "name": "stdout",
     "output_type": "stream",
     "text": [
      "[[0.78267905 0.76078225 0.9731101 ]\n",
      " [0.70123202 0.62946703 0.52970687]\n",
      " [0.38522954 0.62131194 0.26110665]\n",
      " [0.56573266 0.25143631 0.92696728]\n",
      " [0.9641425  0.19405582 0.46795424]\n",
      " [0.07833212 0.31305275 0.43753726]\n",
      " [0.44410515 0.4777997  0.71759243]\n",
      " [0.72037609 0.25569306 0.00169975]\n",
      " [0.34267212 0.1695146  0.85908692]\n",
      " [0.85914821 0.12840813 0.32280918]]\n"
     ]
    },
    {
     "data": {
      "text/plain": [
       "array([[0.76078225, 0.52970687, 0.38522954, 0.56573266, 0.46795424,\n",
       "        0.43753726, 0.4777997 , 0.72037609, 0.34267212, 0.32280918]])"
      ]
     },
     "execution_count": 33,
     "metadata": {},
     "output_type": "execute_result"
    }
   ],
   "source": [
    "#1\n",
    "a=np.random.random((10,3))\n",
    "print(a) \n",
    "np.array([a[np.arange(10),np.argmin((abs(a-0.5)),axis=1)]])"
   ]
  },
  {
   "cell_type": "code",
   "execution_count": 66,
   "metadata": {},
   "outputs": [
    {
     "name": "stdout",
     "output_type": "stream",
     "text": [
      "[[0.54938012 0.67432487 0.71211869 0.13846191 0.23069731 0.31973915]\n",
      " [0.84686966 0.87616693 0.74023849 0.86861491 0.9745244  0.43918775]\n",
      " [0.04930059 0.85211163 0.90318844 0.80107128 0.4530225  0.63506087]\n",
      " [0.81580245 0.80402477 0.51547261 0.63819161 0.03011451 0.93850027]\n",
      " [0.04400931 0.93988915 0.45929912 0.83739362 0.97147223 0.23180034]\n",
      " [0.28941824 0.61035942 0.51130632 0.35386671 0.14754591 0.15375094]]\n"
     ]
    },
    {
     "data": {
      "text/plain": [
       "array([[ 59.64015528,   7.77509453,   8.04215627,  27.02624996,\n",
       "        115.68721207,  13.43892597]])"
      ]
     },
     "execution_count": 66,
     "metadata": {},
     "output_type": "execute_result"
    }
   ],
   "source": [
    "#2\n",
    "a=np.random.random((6,6))\n",
    "print(a)\n",
    "np.array([np.sum(a,axis=1)/(a[np.argmin(a,axis=0),np.arange(6)])])"
   ]
  },
  {
   "cell_type": "code",
   "execution_count": 80,
   "metadata": {},
   "outputs": [
    {
     "data": {
      "text/plain": [
       "5"
      ]
     },
     "execution_count": 80,
     "metadata": {},
     "output_type": "execute_result"
    }
   ],
   "source": [
    "#3\n",
    "x = np.array([6, 2, 0, 3, 0, 0, 5, 7, 0])\n",
    "max(x[np.roll(x,1) == 0][1:])\n"
   ]
  },
  {
   "cell_type": "code",
   "execution_count": 4,
   "metadata": {},
   "outputs": [
    {
     "name": "stdout",
     "output_type": "stream",
     "text": [
      "[2. 2. 2. 2. 1. 4. 1. 1. 2. 1.]\n"
     ]
    }
   ],
   "source": [
    "#4\n",
    "x = np.ones(10)\n",
    "i = np.array([0, 1, 2, 3, 5, 5, 5, 8])\n",
    "print(x+np.bincount(i,minlength=10))"
   ]
  },
  {
   "cell_type": "code",
   "execution_count": 9,
   "metadata": {},
   "outputs": [
    {
     "ename": "OSError",
     "evalue": "dataset-dz.csv not found.",
     "output_type": "error",
     "traceback": [
      "\u001b[1;31m---------------------------------------------------------------------------\u001b[0m",
      "\u001b[1;31mOSError\u001b[0m                                   Traceback (most recent call last)",
      "\u001b[1;32m<ipython-input-9-3029d02e7746>\u001b[0m in \u001b[0;36m<module>\u001b[1;34m()\u001b[0m\n\u001b[0;32m      2\u001b[0m \u001b[1;32mimport\u001b[0m \u001b[0mnumpy\u001b[0m \u001b[1;32mas\u001b[0m \u001b[0mnp\u001b[0m\u001b[1;33m\u001b[0m\u001b[0m\n\u001b[0;32m      3\u001b[0m \u001b[1;32mfrom\u001b[0m \u001b[0mscipy\u001b[0m\u001b[1;33m.\u001b[0m\u001b[0mcluster\u001b[0m\u001b[1;33m.\u001b[0m\u001b[0mvq\u001b[0m \u001b[1;32mimport\u001b[0m \u001b[0mkmeans\u001b[0m \u001b[1;31m#для проверки\u001b[0m\u001b[1;33m\u001b[0m\u001b[0m\n\u001b[1;32m----> 4\u001b[1;33m \u001b[0mdata\u001b[0m \u001b[1;33m=\u001b[0m \u001b[0mnp\u001b[0m\u001b[1;33m.\u001b[0m\u001b[0mgenfromtxt\u001b[0m\u001b[1;33m(\u001b[0m\u001b[1;34m'dataset-dz.csv'\u001b[0m\u001b[1;33m,\u001b[0m\u001b[0mdelimiter\u001b[0m\u001b[1;33m=\u001b[0m\u001b[1;34m','\u001b[0m\u001b[1;33m,\u001b[0m \u001b[0mskip_header\u001b[0m \u001b[1;33m=\u001b[0m \u001b[1;36m1\u001b[0m\u001b[1;33m)\u001b[0m \u001b[1;31m#загрузили данные\u001b[0m\u001b[1;33m\u001b[0m\u001b[0m\n\u001b[0m\u001b[0;32m      5\u001b[0m \u001b[0mdata\u001b[0m \u001b[1;33m=\u001b[0m \u001b[0mdata\u001b[0m \u001b[1;33m/\u001b[0m \u001b[0mnp\u001b[0m\u001b[1;33m.\u001b[0m\u001b[0mstd\u001b[0m\u001b[1;33m(\u001b[0m\u001b[0mdata\u001b[0m\u001b[1;33m,\u001b[0m \u001b[0maxis\u001b[0m \u001b[1;33m=\u001b[0m \u001b[1;36m0\u001b[0m\u001b[1;33m)\u001b[0m \u001b[1;31m#отнормировали\u001b[0m\u001b[1;33m\u001b[0m\u001b[0m\n\u001b[0;32m      6\u001b[0m \u001b[1;33m\u001b[0m\u001b[0m\n",
      "\u001b[1;32m~\\Anaconda3\\lib\\site-packages\\numpy\\lib\\npyio.py\u001b[0m in \u001b[0;36mgenfromtxt\u001b[1;34m(fname, dtype, comments, delimiter, skip_header, skip_footer, converters, missing_values, filling_values, usecols, names, excludelist, deletechars, replace_space, autostrip, case_sensitive, defaultfmt, unpack, usemask, loose, invalid_raise, max_rows, encoding)\u001b[0m\n\u001b[0;32m   1698\u001b[0m             \u001b[0mfname\u001b[0m \u001b[1;33m=\u001b[0m \u001b[0mstr\u001b[0m\u001b[1;33m(\u001b[0m\u001b[0mfname\u001b[0m\u001b[1;33m)\u001b[0m\u001b[1;33m\u001b[0m\u001b[0m\n\u001b[0;32m   1699\u001b[0m         \u001b[1;32mif\u001b[0m \u001b[0misinstance\u001b[0m\u001b[1;33m(\u001b[0m\u001b[0mfname\u001b[0m\u001b[1;33m,\u001b[0m \u001b[0mbasestring\u001b[0m\u001b[1;33m)\u001b[0m\u001b[1;33m:\u001b[0m\u001b[1;33m\u001b[0m\u001b[0m\n\u001b[1;32m-> 1700\u001b[1;33m             \u001b[0mfhd\u001b[0m \u001b[1;33m=\u001b[0m \u001b[0miter\u001b[0m\u001b[1;33m(\u001b[0m\u001b[0mnp\u001b[0m\u001b[1;33m.\u001b[0m\u001b[0mlib\u001b[0m\u001b[1;33m.\u001b[0m\u001b[0m_datasource\u001b[0m\u001b[1;33m.\u001b[0m\u001b[0mopen\u001b[0m\u001b[1;33m(\u001b[0m\u001b[0mfname\u001b[0m\u001b[1;33m,\u001b[0m \u001b[1;34m'rt'\u001b[0m\u001b[1;33m,\u001b[0m \u001b[0mencoding\u001b[0m\u001b[1;33m=\u001b[0m\u001b[0mencoding\u001b[0m\u001b[1;33m)\u001b[0m\u001b[1;33m)\u001b[0m\u001b[1;33m\u001b[0m\u001b[0m\n\u001b[0m\u001b[0;32m   1701\u001b[0m             \u001b[0mown_fhd\u001b[0m \u001b[1;33m=\u001b[0m \u001b[1;32mTrue\u001b[0m\u001b[1;33m\u001b[0m\u001b[0m\n\u001b[0;32m   1702\u001b[0m         \u001b[1;32melse\u001b[0m\u001b[1;33m:\u001b[0m\u001b[1;33m\u001b[0m\u001b[0m\n",
      "\u001b[1;32m~\\Anaconda3\\lib\\site-packages\\numpy\\lib\\_datasource.py\u001b[0m in \u001b[0;36mopen\u001b[1;34m(path, mode, destpath, encoding, newline)\u001b[0m\n\u001b[0;32m    260\u001b[0m \u001b[1;33m\u001b[0m\u001b[0m\n\u001b[0;32m    261\u001b[0m     \u001b[0mds\u001b[0m \u001b[1;33m=\u001b[0m \u001b[0mDataSource\u001b[0m\u001b[1;33m(\u001b[0m\u001b[0mdestpath\u001b[0m\u001b[1;33m)\u001b[0m\u001b[1;33m\u001b[0m\u001b[0m\n\u001b[1;32m--> 262\u001b[1;33m     \u001b[1;32mreturn\u001b[0m \u001b[0mds\u001b[0m\u001b[1;33m.\u001b[0m\u001b[0mopen\u001b[0m\u001b[1;33m(\u001b[0m\u001b[0mpath\u001b[0m\u001b[1;33m,\u001b[0m \u001b[0mmode\u001b[0m\u001b[1;33m,\u001b[0m \u001b[0mencoding\u001b[0m\u001b[1;33m=\u001b[0m\u001b[0mencoding\u001b[0m\u001b[1;33m,\u001b[0m \u001b[0mnewline\u001b[0m\u001b[1;33m=\u001b[0m\u001b[0mnewline\u001b[0m\u001b[1;33m)\u001b[0m\u001b[1;33m\u001b[0m\u001b[0m\n\u001b[0m\u001b[0;32m    263\u001b[0m \u001b[1;33m\u001b[0m\u001b[0m\n\u001b[0;32m    264\u001b[0m \u001b[1;33m\u001b[0m\u001b[0m\n",
      "\u001b[1;32m~\\Anaconda3\\lib\\site-packages\\numpy\\lib\\_datasource.py\u001b[0m in \u001b[0;36mopen\u001b[1;34m(self, path, mode, encoding, newline)\u001b[0m\n\u001b[0;32m    616\u001b[0m                                       encoding=encoding, newline=newline)\n\u001b[0;32m    617\u001b[0m         \u001b[1;32melse\u001b[0m\u001b[1;33m:\u001b[0m\u001b[1;33m\u001b[0m\u001b[0m\n\u001b[1;32m--> 618\u001b[1;33m             \u001b[1;32mraise\u001b[0m \u001b[0mIOError\u001b[0m\u001b[1;33m(\u001b[0m\u001b[1;34m\"%s not found.\"\u001b[0m \u001b[1;33m%\u001b[0m \u001b[0mpath\u001b[0m\u001b[1;33m)\u001b[0m\u001b[1;33m\u001b[0m\u001b[0m\n\u001b[0m\u001b[0;32m    619\u001b[0m \u001b[1;33m\u001b[0m\u001b[0m\n\u001b[0;32m    620\u001b[0m \u001b[1;33m\u001b[0m\u001b[0m\n",
      "\u001b[1;31mOSError\u001b[0m: dataset-dz.csv not found."
     ]
    }
   ],
   "source": [
    "#6\n",
    "import numpy as np\n",
    "from scipy.cluster.vq import kmeans #для проверки\n",
    "data = np.genfromtxt('dataset-dz.csv',delimiter=',', skip_header = 1) #загрузили данные\n",
    "data = data / np.std(data, axis = 0) #отнормировали\n",
    "\n",
    "def k1_means(pts,k,t=30, eps = 1e-05):\n",
    "    n=pts.shape[0] #количество точек\n",
    "    m=pts.shape[1] #размерность наблюдений\n",
    "    ncentr=pts[:k,:] #сначала центроидами берем первые k точек\n",
    "    pts=np.expand_dims(pts,axis=1) #добавление размерности в матрицу точек\n",
    "    centr=np.zeros((k,m))\n",
    "    ndistort=256\n",
    "    distort=0\n",
    "    while(ndistort-distort>eps and i<t):\n",
    "        centr=ncentr\n",
    "        distort=ndistort\n",
    "        clust=np.argmin(((pts-ncentr)**2).sum(axis=2),axis=1) #по правилу бродкастинга pts-ncentr это матрица n*k*m\n",
    "        M=np.zeros(n*k*m).reshape(n,k,m)\n",
    "        M[np.arange(n),clust]=(dpts-ncentr)**2[np.arange(n),clust]/np.bincount(clust)[clust].reshape(n, 1)\n",
    "        ncentr=centr+M.sum(axis=0)\n",
    "        clust=np.argmin(((dpts-ncentr)**2).sum(axis=2),axis=1) #массив в котором на iом месте стоит номер кластера для iой точки\n",
    "        M=np.zeros(n*k*m).reshape(n,k,m)\n",
    "        M[np.arange(n),clust]=(dpts-ncentr)[np.arange(n),clust]\n",
    "        ndistort=np.sqrt((M**2).sum(axis=2)).sum(axis=1).mean()\n",
    "        i=i+1[numcen].reshape(N, 1)\n",
    "    return ncentr,distortion\n",
    "print(k1_means(data,2))\n",
    "print(kmeans(data,2))\n",
    "\n",
    "                                \n",
    "        \n",
    "    \n"
   ]
  },
  {
   "cell_type": "code",
   "execution_count": null,
   "metadata": {},
   "outputs": [],
   "source": []
  },
  {
   "cell_type": "code",
   "execution_count": null,
   "metadata": {},
   "outputs": [],
   "source": []
  }
 ],
 "metadata": {
  "kernelspec": {
   "display_name": "Python 3",
   "language": "python",
   "name": "python3"
  }
 },
 "nbformat": 4,
 "nbformat_minor": 2
}
