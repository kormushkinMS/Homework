{
 "cells": [
  {
   "cell_type": "markdown",
   "metadata": {
    "colab_type": "text",
    "id": "0aRCzXYcdiYx"
   },
   "source": [
    "# Случайность в вероятности и на практике\n",
    "\n",
    "О подходах к понятию случайности: \n",
    "\n",
    "Н.К. Верещагин, В.А. Успенский, А. Шень. Колмогоровская сложность и алгоритмическая случайность. \n",
    "https://www.mccme.ru/free-books/shen/kolmbook.pdf\n",
    "\n",
    "А.Н. Ширяев. Случайность в вероятности (доклад на семинаре кафедры теории веротяностей). http://www.mathnet.ru:8080/PresentFiles/21897/bsk_2018_10_17_shiryaev_an_randomness_in_probability_slides.pdf"
   ]
  },
  {
   "cell_type": "markdown",
   "metadata": {
    "colab_type": "text",
    "id": "gGaMEWqqdiYz"
   },
   "source": [
    "## Генераторы случайных чисел"
   ]
  },
  {
   "cell_type": "markdown",
   "metadata": {
    "colab_type": "text",
    "id": "KKkc3qORdiY0"
   },
   "source": [
    "Что происходит при вызове, напрмер, ```np.random.rand()```?\n",
    "\n",
    "Как устроен источник случайной последовательности?\n",
    "\n",
    "![img](https://cdn.ablebits.com/_img-blog/random-generator/random-generator.png)"
   ]
  },
  {
   "cell_type": "markdown",
   "metadata": {
    "colab_type": "text",
    "id": "z9EkarifdiY2"
   },
   "source": [
    "Рассмотрим простой и популрный алгоритм - Linear congruential generator (LCG). При вызове функции ```rand()``` в C/C++ происзодит обращение именно к LCG."
   ]
  },
  {
   "cell_type": "markdown",
   "metadata": {
    "colab_type": "text",
    "id": "sx9CIKsSdiY2"
   },
   "source": [
    "Linear congruential generator производит последовательность:\n",
    "$$ z_{i+1} = (az_i + c) \\mod m $$\n",
    "\n",
    "Число $z_0$ называется *seed* и обеспечивает воспроизводимость последовательности “случайных” чисел.\n",
    "\n",
    "Напишем функцию, которая реализует LCG:"
   ]
  },
  {
   "cell_type": "code",
   "execution_count": 0,
   "metadata": {
    "colab": {},
    "colab_type": "code",
    "id": "LqxgMijIdiY3"
   },
   "outputs": [],
   "source": [
    "def rng(m=2**32, a=1103515245, c=12345):\n",
    "    rng.current = (a * rng.current + c) % m\n",
    "    return rng.current / m\n",
    "\n",
    "# setting the seed\n",
    "rng.current = 1"
   ]
  },
  {
   "cell_type": "markdown",
   "metadata": {
    "colab_type": "text",
    "id": "d0AqPXS7diY5"
   },
   "source": [
    "Выведем несколько первых элементов последовательности:"
   ]
  },
  {
   "cell_type": "code",
   "execution_count": 0,
   "metadata": {
    "colab": {},
    "colab_type": "code",
    "id": "osNjN2U4diY6",
    "outputId": "13438912-a5a1-4c67-dab6-6247d775602f"
   },
   "outputs": [
    {
     "data": {
      "text/plain": [
       "[0.25693503906950355,\n",
       " 0.5878706516232342,\n",
       " 0.15432575810700655,\n",
       " 0.767266943352297,\n",
       " 0.9738139626570046,\n",
       " 0.5858681506942958,\n",
       " 0.8511155843734741,\n",
       " 0.6132153405342251,\n",
       " 0.7473867232911289,\n",
       " 0.06236015981994569]"
      ]
     },
     "execution_count": 2,
     "metadata": {
      "tags": []
     },
     "output_type": "execute_result"
    }
   ],
   "source": [
    "[rng() for i in range(10)]"
   ]
  },
  {
   "cell_type": "markdown",
   "metadata": {
    "colab_type": "text",
    "id": "xZXUiK0idiY9"
   },
   "source": [
    "Выбор параметров $m$, $a$ и $c$ существенно влияет на качество последовательности. Если параметры выбрать наобум, это может привести к неожиданным последствиям:"
   ]
  },
  {
   "cell_type": "code",
   "execution_count": 3,
   "metadata": {
    "colab": {},
    "colab_type": "code",
    "id": "9DWifIyadiY9",
    "outputId": "d08ab4b5-e5ac-45f2-9c26-82a8b4b88c6d"
   },
   "outputs": [
    {
     "name": "stdout",
     "output_type": "stream",
     "text": [
      "This sequence looks as random:\n"
     ]
    },
    {
     "data": {
      "text/plain": [
       "[0.36082474226804123,\n",
       " 0.8041237113402062,\n",
       " 0.020618556701030927,\n",
       " 0.10309278350515463,\n",
       " 0.5154639175257731,\n",
       " 0.5773195876288659,\n",
       " 0.8865979381443299,\n",
       " 0.4329896907216495,\n",
       " 0.16494845360824742,\n",
       " 0.8247422680412371]"
      ]
     },
     "execution_count": 3,
     "metadata": {},
     "output_type": "execute_result"
    }
   ],
   "source": [
    "def rng(m=97, a=5, c=0):\n",
    "    rng.current = (a * rng.current + c) % m\n",
    "    return rng.current / m\n",
    "rng.current = 7\n",
    "\n",
    "random = [rng() for i in range(1000)]\n",
    "print(\"This sequence looks as random:\")\n",
    "random[:10]"
   ]
  },
  {
   "cell_type": "markdown",
   "metadata": {
    "colab_type": "text",
    "id": "ClnjUt9ddiY_"
   },
   "source": [
    "Гистограмма распределения похожа на равномерное:"
   ]
  },
  {
   "cell_type": "code",
   "execution_count": 5,
   "metadata": {
    "colab": {},
    "colab_type": "code",
    "id": "wBlZwI6ndiZA",
    "outputId": "c35d5abd-d540-4778-a9e6-169e0439fa1a"
   },
   "outputs": [
    {
     "data": {
      "image/png": "[encoded data removed]",
      "text/plain": [
       "<Figure size 432x288 with 1 Axes>"
      ]
     },
     "metadata": {
      "needs_background": "light"
     },
     "output_type": "display_data"
    }
   ],
   "source": [
    "import matplotlib.pyplot as plt\n",
    "plt.hist(random, density=True)\n",
    "plt.show()"
   ]
  },
  {
   "cell_type": "markdown",
   "metadata": {
    "colab_type": "text",
    "id": "jK0-W5ZbdiZC"
   },
   "source": [
    "Однако, спектральный тест показывает, что точки располагаются на гиперплоскостях, что плохо согласуется с предствалением о случайности:"
   ]
  },
  {
   "cell_type": "code",
   "execution_count": 0,
   "metadata": {
    "colab": {},
    "colab_type": "code",
    "id": "id0Wt3W1diZC",
    "outputId": "1df26491-1137-473f-d2e3-955220b4ed07"
   },
   "outputs": [
    {
     "data": {
      "image/png": "[encoded data removed]",
      "text/plain": [
       "<matplotlib.figure.Figure at 0x8044b70>"
      ]
     },
     "metadata": {
      "tags": []
     },
     "output_type": "display_data"
    }
   ],
   "source": [
    "plt.scatter(random[1:], random[:-1])\n",
    "plt.show()"
   ]
  },
  {
   "cell_type": "markdown",
   "metadata": {
    "colab_type": "text",
    "id": "acoBBpJ3diZE"
   },
   "source": [
    "Более аккуратный выбор параметров приводит с более \"случайному\" распределению:"
   ]
  },
  {
   "cell_type": "code",
   "execution_count": 0,
   "metadata": {
    "colab": {},
    "colab_type": "code",
    "id": "bFEQUw_DdiZE",
    "outputId": "85118f78-27a9-4594-f404-23e790cbad11"
   },
   "outputs": [
    {
     "data": {
      "image/png": "[encoded data removed]",
      "text/plain": [
       "<matplotlib.figure.Figure at 0x4e92438>"
      ]
     },
     "metadata": {
      "tags": []
     },
     "output_type": "display_data"
    }
   ],
   "source": [
    "def rng(m=2**32, a=1103515245, c=12345):\n",
    "    rng.current = (a * rng.current + c) % m\n",
    "    return rng.current / m\n",
    "rng.current = 1\n",
    "\n",
    "random = [rng() for i in range(1000)]\n",
    "plt.scatter(random[1:], random[:-1])\n",
    "plt.show()"
   ]
  },
  {
   "cell_type": "markdown",
   "metadata": {
    "colab_type": "text",
    "id": "vH11PZr2diZG"
   },
   "source": [
    "Существует набор тестов для проверки \"случайности\". Например, тесты [Diehard tests](https://en.wikipedia.org/wiki/Diehard_tests)."
   ]
  },
  {
   "cell_type": "markdown",
   "metadata": {
    "colab_type": "text",
    "id": "E-_a6vHFhzGq"
   },
   "source": [
    "Больше методов генерации собрано [здесь](https://en.wikipedia.org/wiki/List_of_random_number_generators)."
   ]
  },
  {
   "cell_type": "markdown",
   "metadata": {
    "colab_type": "text",
    "id": "cuGe1hKIdiZH"
   },
   "source": [
    "## Генерация выборки из заданного распределения"
   ]
  },
  {
   "cell_type": "markdown",
   "metadata": {
    "colab_type": "text",
    "id": "P_aljqUUdiZH"
   },
   "source": [
    "Допустим, у нас есть генератор случайных числе из отрезка [0, 1]. Как получить выборку из нового распределения $F$?\n",
    "\n"
   ]
  },
  {
   "cell_type": "markdown",
   "metadata": {
    "colab_type": "text",
    "id": "nicNq6-yrD7P"
   },
   "source": [
    "### Задача\n",
    "Смоделировать выборку объема 1000 из дискретного распределения на множестве цифр 0, 1, 2, ..., 9 с весами 0.12, 0.3, 0.167, 0.24, 0.31, 0.54, 0.111, 0.02, 0.001, 0.2. По выборке построить гистограмму. Оптимизируйте алгоритм, упорядочив веса. Сравните время генерации выборки с неупорядоченными и упорядоченными весами.\n"
   ]
  },
  {
   "cell_type": "code",
   "execution_count": 4,
   "metadata": {
    "colab": {},
    "colab_type": "code",
    "id": "2djF1xMoq_1f"
   },
   "outputs": [
    {
     "name": "stdout",
     "output_type": "stream",
     "text": [
      "0.05467489599959663\n"
     ]
    },
    {
     "data": {
      "image/png": "[encoded data removed]",
      "text/plain": [
       "<Figure size 432x288 with 1 Axes>"
      ]
     },
     "metadata": {
      "needs_background": "light"
     },
     "output_type": "display_data"
    }
   ],
   "source": [
    "# Solution here\n",
    "import timeit\n",
    "import numpy as np\n",
    "import matplotlib.pyplot as plt\n",
    "vesa=np.array([ 0.12, 0.3, 0.167, 0.24, 0.31, 0.54, 0.111, 0.02, 0.001, 0.2])\n",
    "vesa=vesa/sum(vesa)  #отнормировали веса\n",
    "A=np.random.rand(1000) \n",
    "B=np.zeros(1000)\n",
    "a = timeit.default_timer()\n",
    "for i in range (1000):\n",
    "    for j in range(10):\n",
    "        if(sum(vesa[0:j])<=A[i]<sum(vesa[0:j+1])): #если случайное число попало в отрезок j, то присвоим ему номер j\n",
    "            B[i]=j\n",
    "print(timeit.default_timer()-a)\n",
    "plt.hist(B) \n",
    "plt.xticks(np.arange(10))\n",
    "plt.show()\n"
   ]
  },
  {
   "cell_type": "code",
   "execution_count": 4,
   "metadata": {},
   "outputs": [
    {
     "name": "stdout",
     "output_type": "stream",
     "text": [
      "0.06949800900000014\n"
     ]
    },
    {
     "data": {
      "image/png": "[encoded data removed]",
      "text/plain": [
       "<Figure size 432x288 with 1 Axes>"
      ]
     },
     "metadata": {
      "needs_background": "light"
     },
     "output_type": "display_data"
    }
   ],
   "source": [
    "#теперь отсортируем веса не забыв, каким номерам они соответствовали\n",
    "vesa_sort=np.sort(vesa)[::-1]\n",
    "B=np.zeros(1000)\n",
    "a = timeit.default_timer()\n",
    "for i in range (1000):\n",
    "     for j in range(10):\n",
    "        if(sum(vesa_sort[0:j])<=A[i]<sum(vesa_sort[0:j+1])):\n",
    "            B[i]=np.argsort(vesa)[::-1][j]\n",
    "print(timeit.default_timer()-a)\n",
    "plt.hist(B) \n",
    "plt.xticks(np.arange(10))\n",
    "plt.show()\n"
   ]
  },
  {
   "cell_type": "markdown",
   "metadata": {},
   "source": [
    "###### кажется, это просто реализация функции np.random.choice"
   ]
  },
  {
   "cell_type": "markdown",
   "metadata": {
    "colab_type": "text",
    "id": "F-VMprlQdiZJ"
   },
   "source": [
    "### Inverse transform method"
   ]
  },
  {
   "cell_type": "markdown",
   "metadata": {
    "colab_type": "text",
    "id": "DXgRVEkidiZJ"
   },
   "source": [
    "В следующем предложении заключается идея метода *inverse transform*:\n",
    "\n",
    "Если $\\xi$ имеет равномерное распределение в $[0,1]$, тогда $F^{-1}(\\xi)$ распределена по закону $F$. (Для каких $F$ это верно?)"
   ]
  },
  {
   "cell_type": "markdown",
   "metadata": {
    "colab_type": "text",
    "id": "LlRNa517diZK"
   },
   "source": [
    "### Задача\n",
    "Смделируйте выборку размера 1000 из распределения $Exp(\\lambda)$. Постройте выборочную гистограмму и точный график плотности распределения."
   ]
  },
  {
   "cell_type": "code",
   "execution_count": 108,
   "metadata": {
    "colab": {},
    "colab_type": "code",
    "id": "vD1_buYgdiZK"
   },
   "outputs": [
    {
     "data": {
      "image/png": "[encoded data removed]",
      "text/plain": [
       "<Figure size 1080x216 with 2 Axes>"
      ]
     },
     "metadata": {
      "needs_background": "light"
     },
     "output_type": "display_data"
    },
    {
     "data": {
      "text/plain": [
       "[0.5730598739775316,\n",
       " 0.5763453899073469,\n",
       " 1.6145793784356344,\n",
       " 2.8515179600314924,\n",
       " 0.4262470609778963,\n",
       " 2.759268131487275,\n",
       " 1.3682495446350693,\n",
       " 0.3064171014102619,\n",
       " 0.9118968057605059,\n",
       " 0.8628156732374453,\n",
       " 1.3396823715883477,\n",
       " 0.7603109651234734,\n",
       " 0.647365272386699,\n",
       " 1.1209576754040784,\n",
       " 1.3607525974775263,\n",
       " 0.15105907543332073,\n",
       " 0.8635197948402747,\n",
       " 2.9116820149190934,\n",
       " 0.9414868436110929,\n",
       " 0.8850478715363755,\n",
       " 0.2275414341243053,\n",
       " 0.8610228092757758,\n",
       " 0.32401862270000203,\n",
       " 0.023717654254149276,\n",
       " 0.35277882423033885,\n",
       " 2.85223443038786,\n",
       " 0.7348161080313859,\n",
       " 0.39746556332338845,\n",
       " 0.3728381910486073,\n",
       " 1.105543225847709,\n",
       " 0.14193897864296584,\n",
       " 0.5799283838262804,\n",
       " 0.13352731079985075,\n",
       " 0.07265566665693403,\n",
       " 1.1629069157181915,\n",
       " 0.530272396366486,\n",
       " 5.266404747851596,\n",
       " 0.23785102785677725,\n",
       " 0.7420959000931268,\n",
       " 0.21990684318096795,\n",
       " 0.35791364154929084,\n",
       " 1.9051709204548821,\n",
       " 0.0634302796472384,\n",
       " 1.9160619463675441,\n",
       " 0.9937257022233916,\n",
       " 0.5855098168632279,\n",
       " 0.44013285316225575,\n",
       " 0.6968979669417451,\n",
       " 2.7432261469977437,\n",
       " 0.25594207273247765,\n",
       " 0.46413401310998575,\n",
       " 0.7081097161779222,\n",
       " 0.08970541024753674,\n",
       " 0.5189232241187846,\n",
       " 1.048948658371318,\n",
       " 0.9569337645701202,\n",
       " 1.1038521146171911,\n",
       " 2.5819349506746208,\n",
       " 0.6915299492387259,\n",
       " 0.43621351276208703,\n",
       " 3.6552249347175403,\n",
       " 0.35795342146762027,\n",
       " 0.23370360303749815,\n",
       " 0.5110108686541558,\n",
       " 0.4208367075687283,\n",
       " 0.43342622684219323,\n",
       " 0.5749897776696166,\n",
       " 2.2613260496555294,\n",
       " 0.8617825934489249,\n",
       " 0.2067511926666316,\n",
       " 0.014664254069889126,\n",
       " 1.3930622552488798,\n",
       " 0.31702663896411976,\n",
       " 1.8329439867185358,\n",
       " 0.2981820951867788,\n",
       " 1.8330039198479537,\n",
       " 1.4475036076650332,\n",
       " 0.094896048096029,\n",
       " 0.15604931389658638,\n",
       " 2.7689091801527046,\n",
       " 0.14182199022275935,\n",
       " 1.6102330267520775,\n",
       " 0.7542685049793925,\n",
       " 0.16868265424817705,\n",
       " 0.054457213078987154,\n",
       " 0.10360374889336789,\n",
       " 2.98749726767563,\n",
       " 0.3227160094962242,\n",
       " 0.5301373232181741,\n",
       " 0.6235807977311933,\n",
       " 0.09754787784653035,\n",
       " 0.46914606565112343,\n",
       " 1.1000899270352107,\n",
       " 2.1736397723658496,\n",
       " 2.8187172747505023,\n",
       " 0.14069921149270082,\n",
       " 1.4381998032239312,\n",
       " 0.45772998969959927,\n",
       " 1.4907351177379182,\n",
       " 0.11558176136373505,\n",
       " 0.6772189873363854,\n",
       " 0.34657972282951627,\n",
       " 0.5505983271253283,\n",
       " 0.01483228886031753,\n",
       " 7.746171776257141,\n",
       " 0.9333456386103679,\n",
       " 1.2754471933935638,\n",
       " 0.14133430876359732,\n",
       " 1.7603709195337682,\n",
       " 0.5855123069578348,\n",
       " 3.3151790563610017,\n",
       " 2.438519312536539,\n",
       " 4.646996350876975,\n",
       " 2.8512753549651704,\n",
       " 0.1719475722763541,\n",
       " 1.521025953614552,\n",
       " 1.5894877176272817,\n",
       " 0.7017810881018587,\n",
       " 0.3381535456213131,\n",
       " 0.2363387003183151,\n",
       " 0.2987879098292778,\n",
       " 0.46285931503838407,\n",
       " 2.070972900654089,\n",
       " 1.670706669267596,\n",
       " 0.7803993632954526,\n",
       " 0.5084069019478125,\n",
       " 0.6753256414345318,\n",
       " 0.7074674549075627,\n",
       " 0.596671496634653,\n",
       " 0.23352508663659807,\n",
       " 0.4619784104323652,\n",
       " 0.04218788906791748,\n",
       " 1.4035760393246575,\n",
       " 0.07190054303325064,\n",
       " 2.009318397470182,\n",
       " 1.1255606975329684,\n",
       " 0.0757801487324346,\n",
       " 0.6670352941898575,\n",
       " 2.8193566117346065,\n",
       " 1.460333261106241,\n",
       " 0.22031884469565774,\n",
       " 0.0018595323634456927,\n",
       " 1.474890149363802,\n",
       " 0.0740084634635498,\n",
       " 0.6797270012602836,\n",
       " 3.2490460328160258,\n",
       " 0.10968848639350702,\n",
       " 0.10988323887928682,\n",
       " 0.4531285808853011,\n",
       " 1.1582918322029356,\n",
       " 0.4369982658734364,\n",
       " 0.8852930202878483,\n",
       " 1.0345669859785827,\n",
       " 1.405057148934588,\n",
       " 0.8828710988186781,\n",
       " 0.22855996699414072,\n",
       " 0.7428761741041764,\n",
       " 0.5744936663239959,\n",
       " 0.32958954674869095,\n",
       " 0.9733100867806813,\n",
       " 0.16122001468130398,\n",
       " 1.5039893147648844,\n",
       " 2.4800613885591747,\n",
       " 0.05767290688288165,\n",
       " 0.7570940321187799,\n",
       " 0.14659927477886592,\n",
       " 1.1598621050863707,\n",
       " 0.4283936323886016,\n",
       " 0.9226303949884501,\n",
       " 0.9208712009696647,\n",
       " 0.11691759912841175,\n",
       " 0.4701463364199339,\n",
       " 0.4529506009361046,\n",
       " 1.261223159083658,\n",
       " 1.2671535108038146,\n",
       " 1.4149821782098917,\n",
       " 0.6590855218118594,\n",
       " 0.6499373636348635,\n",
       " 0.2949009655653915,\n",
       " 0.36076718631049043,\n",
       " 0.6499953379606864,\n",
       " 0.7639746887042871,\n",
       " 0.4341169869815307,\n",
       " 1.8220321768166463,\n",
       " 1.468324456602213,\n",
       " 0.40925991678956314,\n",
       " 0.1242353305286233,\n",
       " 1.1536473295240102,\n",
       " 0.3437755518851819,\n",
       " 3.692960946553251,\n",
       " 0.8628851276520229,\n",
       " 0.04201654593013866,\n",
       " 0.1374519873240723,\n",
       " 1.1718852607651908,\n",
       " 0.14316391336475398,\n",
       " 0.9864826787608526,\n",
       " 3.0153882554902642,\n",
       " 0.09741228484076224,\n",
       " 0.19670114962361127,\n",
       " 0.17496993250279275,\n",
       " 1.119177526609432,\n",
       " 0.8966998511407193,\n",
       " 0.181727994502039,\n",
       " 1.9258858403737629,\n",
       " 0.7277941247868914,\n",
       " 3.2360852075591966,\n",
       " 2.7104188776234452,\n",
       " 1.9831799552010143,\n",
       " 0.10523230456627782,\n",
       " 1.6751327423130136,\n",
       " 1.327192158351072,\n",
       " 0.051532462496014,\n",
       " 3.0848287328302693,\n",
       " 0.8958617119230389,\n",
       " 0.27843100810889226,\n",
       " 0.210479110253684,\n",
       " 0.6721782379415778,\n",
       " 0.9457427510678378,\n",
       " 0.05930494833066278,\n",
       " 0.9975068362851369,\n",
       " 0.22839608452372634,\n",
       " 0.26201180283045583,\n",
       " 0.10799271796604716,\n",
       " 1.6755855953568106,\n",
       " 1.482008552449807,\n",
       " 0.717631835379709,\n",
       " 2.480100413829134,\n",
       " 2.1800370465161722,\n",
       " 0.8739330109427822,\n",
       " 2.3368403558559403,\n",
       " 1.9507052633166062,\n",
       " 0.18346741575023198,\n",
       " 1.6222108740457415,\n",
       " 0.011557904310313631,\n",
       " 1.1430769300314068,\n",
       " 0.4010533660658304,\n",
       " 0.2253121872160091,\n",
       " 0.11479126699170039,\n",
       " 1.786316374753816,\n",
       " 0.17426478391314998,\n",
       " 0.8036096024128598,\n",
       " 1.0249838821785502,\n",
       " 0.11409627523639046,\n",
       " 0.38831176179760474,\n",
       " 0.12120026863750319,\n",
       " 0.5375387177873838,\n",
       " 1.2932568641088686,\n",
       " 0.06340584434249368,\n",
       " 3.3274510815158194,\n",
       " 0.22931786105827692,\n",
       " 0.6683357620322625,\n",
       " 0.5820519690130856,\n",
       " 2.6655683341505543,\n",
       " 0.2112412883723825,\n",
       " 0.45188305995905725,\n",
       " 1.9096563484714442,\n",
       " 0.4629245860614648,\n",
       " 1.441735049487685,\n",
       " 0.02460815724088188,\n",
       " 0.44697961560825444,\n",
       " 0.6075784147603921,\n",
       " 1.1021603278923517,\n",
       " 0.469021669652362,\n",
       " 1.4060074980942172,\n",
       " 1.6670077504108272,\n",
       " 0.3886026657075257,\n",
       " 2.4878163231601924,\n",
       " 0.6383884025906097,\n",
       " 0.3468388369595639,\n",
       " 0.33683346118347673,\n",
       " 0.6781577610258555,\n",
       " 0.8282634716276039,\n",
       " 1.4113256321049679,\n",
       " 0.1985818969759041,\n",
       " 2.9931674305372007,\n",
       " 0.35450641584873044,\n",
       " 0.8772680437870453,\n",
       " 0.531539973042572,\n",
       " 0.5313724032408436,\n",
       " 0.013909019222338595,\n",
       " 0.4168976594792453,\n",
       " 0.9875575734396388,\n",
       " 0.35006190447472174,\n",
       " 1.175426358771412,\n",
       " 0.10120217184242739,\n",
       " 3.618563707838355,\n",
       " 0.055205529452560784,\n",
       " 0.18152433545254304,\n",
       " 1.7353923305142027,\n",
       " 1.18521487867572,\n",
       " 0.9591182403525494,\n",
       " 0.1062958836913169,\n",
       " 2.0003815085633074,\n",
       " 3.1063013054325204,\n",
       " 0.5245530973675429,\n",
       " 0.07326018947365011,\n",
       " 0.3725146422425294,\n",
       " 0.564076129399534,\n",
       " 0.44219149832260274,\n",
       " 1.1770619392966166,\n",
       " 4.992565711288807,\n",
       " 0.40115446465465354,\n",
       " 0.27828492772507446,\n",
       " 0.10648000334039233,\n",
       " 0.914033057494337,\n",
       " 0.8830647232861443,\n",
       " 1.3295804456496478,\n",
       " 0.47153636468998106,\n",
       " 1.9411565166603528,\n",
       " 0.06378562433068047,\n",
       " 2.2386397676987406,\n",
       " 0.5861584863390473,\n",
       " 0.6614677350473838,\n",
       " 1.8662087855863136,\n",
       " 0.24064199191284155,\n",
       " 0.24339091161207962,\n",
       " 0.9925802252265468,\n",
       " 0.24750877217578213,\n",
       " 0.8372655142928592,\n",
       " 1.0252928881068613,\n",
       " 4.031488380440562,\n",
       " 1.5698832809619485,\n",
       " 0.5739929477031592,\n",
       " 0.06594400560413534,\n",
       " 0.18777304980614187,\n",
       " 0.45601120249803434,\n",
       " 0.031031353643968987,\n",
       " 1.1619622008092474,\n",
       " 0.06382348193769971,\n",
       " 1.3865372911323193,\n",
       " 0.5912993403391232,\n",
       " 3.254584954354516,\n",
       " 3.0610818915367575,\n",
       " 1.5054764141558783,\n",
       " 0.03555800357208603,\n",
       " 0.05722847342973716,\n",
       " 0.5350585871408028,\n",
       " 0.894719350171805,\n",
       " 0.7941701541198856,\n",
       " 0.030350123361208136,\n",
       " 0.9413781965102095,\n",
       " 0.301081495440221,\n",
       " 1.101386711460608,\n",
       " 0.5581090667845792,\n",
       " 0.9663590154688866,\n",
       " 0.23262399953006274,\n",
       " 1.669008379912572,\n",
       " 0.38381506329005133,\n",
       " 0.3804527683760159,\n",
       " 0.7219593071558609,\n",
       " 1.2822567515312988,\n",
       " 0.3453362755617934,\n",
       " 0.28062277590212226,\n",
       " 0.25467587424559057,\n",
       " 0.5621906191750362,\n",
       " 0.9040345845913914,\n",
       " 1.3524106202038557,\n",
       " 1.233158456448276,\n",
       " 2.1922782325459953,\n",
       " 0.2852308104420146,\n",
       " 0.23419275240355847,\n",
       " 0.5767024061911057,\n",
       " 0.9661468057888308,\n",
       " 0.3219545399427481,\n",
       " 0.148022063124271,\n",
       " 1.0518186455454797,\n",
       " 0.025957593079367725,\n",
       " 0.2939528401688116,\n",
       " 0.91438337473553,\n",
       " 0.07201342303076118,\n",
       " 2.017218868603018,\n",
       " 0.4773472286446025,\n",
       " 1.2968128706435909,\n",
       " 1.200834980554487,\n",
       " 1.082351911495657,\n",
       " 1.689298012309043,\n",
       " 1.7116282164790197,\n",
       " 0.453035324276923,\n",
       " 1.6667384578054374,\n",
       " 1.071188255048219,\n",
       " 2.703751186949918,\n",
       " 0.21220874267524115,\n",
       " 0.9822719986669997,\n",
       " 0.4802720443927107,\n",
       " 0.5151082266337949,\n",
       " 0.10522999458635524,\n",
       " 0.23487598748841518,\n",
       " 0.2577450477616363,\n",
       " 0.06274651309224111,\n",
       " 1.1731136274726157,\n",
       " 1.369688980498839,\n",
       " 0.15709036877426585,\n",
       " 0.17879114285082975,\n",
       " 0.0304704559613631,\n",
       " 0.14616226765854398,\n",
       " 0.37926106124973813,\n",
       " 0.19830013283943498,\n",
       " 0.9400773777059623,\n",
       " 1.0340545611887582,\n",
       " 0.06290726456463153,\n",
       " 0.04084706519561332,\n",
       " 0.042142131551923444,\n",
       " 1.7986607694004764,\n",
       " 0.5748927119041585,\n",
       " 0.5980980895821403,\n",
       " 0.8846201127573361,\n",
       " 0.6536232265926049,\n",
       " 1.592053955078477,\n",
       " 1.6880360475892562,\n",
       " 0.5013647982366513,\n",
       " 0.2079091710169011,\n",
       " 3.2176556528255453,\n",
       " 0.6162916338510458,\n",
       " 2.72166059801178,\n",
       " 0.26725230461835425,\n",
       " 0.042163488063887214,\n",
       " 0.6274970599678555,\n",
       " 0.1945715658919585,\n",
       " 0.39250759592501244,\n",
       " 0.36886297166962806,\n",
       " 0.9779518443138672,\n",
       " 4.372076665188832,\n",
       " 2.044308788595352,\n",
       " 0.7342669379079305,\n",
       " 0.7346698180290379,\n",
       " 0.900841037620705,\n",
       " 0.0866353986096312,\n",
       " 0.2028165196511516,\n",
       " 3.7178349557523114,\n",
       " 1.0792859850217598,\n",
       " 2.028319824872875,\n",
       " 0.50567078110077,\n",
       " 7.661638584438593,\n",
       " 0.03863270579281527,\n",
       " 0.8649321688225882,\n",
       " 2.3316217365849514,\n",
       " 0.13504700988211227,\n",
       " 0.8793649696981272,\n",
       " 0.5619961436739436,\n",
       " 0.30904649015345487,\n",
       " 0.3448061000785645,\n",
       " 0.2063689067362733,\n",
       " 0.6874153057096144,\n",
       " 0.3256199351447156,\n",
       " 4.079393335306596,\n",
       " 0.20089512450081162,\n",
       " 1.4490289656208997,\n",
       " 0.6614825110290684,\n",
       " 0.03892226583603369,\n",
       " 0.45175480807516327,\n",
       " 0.14279925759502687,\n",
       " 1.19940120413981,\n",
       " 0.9997092156896523,\n",
       " 0.1476175989159021,\n",
       " 0.8080237789015899,\n",
       " 0.47055474919400553,\n",
       " 0.06378972582327452,\n",
       " 0.843902611312119,\n",
       " 0.8287439239994627,\n",
       " 0.8000030146887867,\n",
       " 0.17467743030679425,\n",
       " 0.454096081111019,\n",
       " 0.36198802076396935,\n",
       " 0.6496188929043305,\n",
       " 0.366260586079512,\n",
       " 0.48635908778526726,\n",
       " 1.3757030703802997,\n",
       " 2.314260931074104,\n",
       " 4.802696854642696,\n",
       " 2.2981161126468925,\n",
       " 0.7972939939722307,\n",
       " 2.2251322018771265,\n",
       " 1.4487823941683067,\n",
       " 0.6060201684337966,\n",
       " 0.5493734296844932,\n",
       " 1.2461672497975378,\n",
       " 1.3060743759586315,\n",
       " 0.6409409534543492,\n",
       " 0.002252128422220277,\n",
       " 0.1193212925269731,\n",
       " 1.8393979300044008,\n",
       " 0.1688304223292137,\n",
       " 0.19766910370451765,\n",
       " 1.4314668063106697,\n",
       " 0.5957856590235784,\n",
       " 0.4341223081494264,\n",
       " 0.8759312735957552,\n",
       " 0.007563628437085598,\n",
       " 0.19909705533519192,\n",
       " 0.5144559621046952,\n",
       " 0.7181810279515634,\n",
       " 0.2984533204118976,\n",
       " 0.13018621347928627,\n",
       " 0.5200365431930006,\n",
       " 1.6186472716391855,\n",
       " 2.3145962581598507,\n",
       " 0.09833426387601445,\n",
       " 0.9011355669417137,\n",
       " 0.7937830885911843,\n",
       " 0.41462175733112344,\n",
       " 0.39470586478449454,\n",
       " 0.2616255646683706,\n",
       " 0.8462290242162819,\n",
       " 2.234118922851129,\n",
       " 1.3358691560239397,\n",
       " 1.299183695681613,\n",
       " 1.3717185634020685,\n",
       " 0.47335668751640125,\n",
       " 0.3061131434396293,\n",
       " 1.2099785879579072,\n",
       " 0.576043843346183,\n",
       " 0.032738382470214905,\n",
       " 0.3212131841121795,\n",
       " 1.4529122022331296,\n",
       " 0.27166492781578855,\n",
       " 1.796538891487189,\n",
       " 0.8932641748444434,\n",
       " 0.1406716266325646,\n",
       " 0.7026901293069284,\n",
       " 1.0521392020041125,\n",
       " 0.7986953039932615,\n",
       " 0.24644652066198644,\n",
       " 3.1868016087387327,\n",
       " 1.6147997727635686,\n",
       " 1.9369737222983496,\n",
       " 0.11299424100911379,\n",
       " 0.38019151824587294,\n",
       " 0.10764656684344928,\n",
       " 1.4812039683406053,\n",
       " 1.3022830615986802,\n",
       " 0.6222427526203935,\n",
       " 0.45505006690771305,\n",
       " 3.8489259445237645,\n",
       " 1.196217782834785,\n",
       " 2.236704584288128,\n",
       " 0.1430651988973276,\n",
       " 0.4229805642343123,\n",
       " 1.4235259509455365,\n",
       " 0.4856753880653125,\n",
       " 0.25991786325044736,\n",
       " 0.9603706293368967,\n",
       " 0.010385743338138636,\n",
       " 1.8131496428484482,\n",
       " 0.9238001776076877,\n",
       " 0.14942787440515537,\n",
       " 1.6745432845669146,\n",
       " 0.5676822653650208,\n",
       " 1.2971801393181832,\n",
       " 2.2235098887165763,\n",
       " 0.006358443615856343,\n",
       " 0.8939303749719966,\n",
       " 0.8859663653136739,\n",
       " 0.37084025032370804,\n",
       " 0.09643471798108562,\n",
       " 0.14878389743919782,\n",
       " 3.7772294539717954,\n",
       " 0.27186810453764426,\n",
       " 0.14362395203745973,\n",
       " 1.1242055741858266,\n",
       " 0.4258684532259894,\n",
       " 0.008531908786296227,\n",
       " 1.6144722606533328,\n",
       " 0.2689181323023351,\n",
       " 0.3848648834772574,\n",
       " 2.0752449318434003,\n",
       " 1.5250275842316532,\n",
       " 1.5217963853595746,\n",
       " 0.4183700802331124,\n",
       " 1.2358962176422956,\n",
       " 1.0171693780549889,\n",
       " 0.57882169510639,\n",
       " 0.5981598699928224,\n",
       " 0.42368966528923063,\n",
       " 0.25650719144311374,\n",
       " 0.6811098998275067,\n",
       " 0.1203687349497649,\n",
       " 0.42528228246440286,\n",
       " 0.2130302292892621,\n",
       " 0.7413422441577531,\n",
       " 0.5518257080714574,\n",
       " 1.2223990484002152,\n",
       " 0.973544991969507,\n",
       " 5.47000176794518,\n",
       " 0.887588739749809,\n",
       " 0.39110468194959785,\n",
       " 0.9355478759137772,\n",
       " 1.6897205450757502,\n",
       " 0.9133376926257346,\n",
       " 0.043783463877441565,\n",
       " 1.196991375408301,\n",
       " 3.296392530419748,\n",
       " 0.21780130050392085,\n",
       " 0.030248339454820958,\n",
       " 0.04744699097922831,\n",
       " 0.7149809978275912,\n",
       " 1.1143656308101482,\n",
       " 0.07394513676877655,\n",
       " 0.1767085726924202,\n",
       " 0.014086009040889599,\n",
       " 2.051248806379343,\n",
       " 2.010823291624098,\n",
       " 0.09074864106944314,\n",
       " 1.113536207004713,\n",
       " 0.03171562610016249,\n",
       " 1.134162911060313,\n",
       " 3.839357274014847,\n",
       " 0.15804662659631913,\n",
       " 0.0814874728992757,\n",
       " 0.49443546753820516,\n",
       " 0.5991000293252072,\n",
       " 1.3731751758436024,\n",
       " 1.7924550605277962,\n",
       " 1.311028555604701,\n",
       " 1.9692379803134905,\n",
       " 0.5107952089022993,\n",
       " 0.05782914454589519,\n",
       " 0.7620851806936556,\n",
       " 1.141621140469003,\n",
       " 2.599566228431222,\n",
       " 4.387624067163515,\n",
       " 0.07652505122517629,\n",
       " 0.598585003693401,\n",
       " 3.8940641067414936,\n",
       " 0.02826228319023324,\n",
       " 0.304286328558943,\n",
       " 0.28146820558877483,\n",
       " 1.1099505251631383,\n",
       " 0.6908728390668747,\n",
       " 0.4297876234567777,\n",
       " 1.804217219753572,\n",
       " 1.2473446644149913,\n",
       " 3.277737975347215,\n",
       " 0.18498326994131536,\n",
       " 1.0998118656253018,\n",
       " 0.43413712203718907,\n",
       " 2.1134879090753937,\n",
       " 2.2650109526912305,\n",
       " 2.4378282826317488,\n",
       " 0.2277609552090628,\n",
       " 0.6134689207317935,\n",
       " 0.6478401619274488,\n",
       " 0.18589488518019215,\n",
       " 0.5002275819799408,\n",
       " 0.6621471641167416,\n",
       " 0.9515873179689709,\n",
       " 0.3662829566389817,\n",
       " 0.2264744747243025,\n",
       " 0.003955501100095932,\n",
       " 2.187145265447716,\n",
       " 1.6766901932039329,\n",
       " 1.8321562677138465,\n",
       " 2.6021319960697995,\n",
       " 0.1708077726253981,\n",
       " 0.194856256769701,\n",
       " 0.10408335288628916,\n",
       " 0.038041939458625225,\n",
       " 0.8791312300751722,\n",
       " 0.9082180018616959,\n",
       " 0.8586507002356438,\n",
       " 0.44121487139207477,\n",
       " 5.562939624477573,\n",
       " 2.8689501457198268,\n",
       " 0.5989770566227319,\n",
       " 3.7180882732174223,\n",
       " 0.378087774046607,\n",
       " 1.4279348847943056,\n",
       " 1.0688444623885374,\n",
       " 0.23588824026196528,\n",
       " 0.060417668781597836,\n",
       " 0.043499778028316574,\n",
       " 0.06230600119241661,\n",
       " 0.059811210574848284,\n",
       " 1.0325987928567624,\n",
       " 0.01925425209969451,\n",
       " 0.9946595093771596,\n",
       " 0.16674171802162926,\n",
       " 4.774534334628406,\n",
       " 0.07448970647936504,\n",
       " 0.27757255985759643,\n",
       " 0.12917212163481576,\n",
       " 0.1259984293249533,\n",
       " 0.5461815659817767,\n",
       " 1.0503484179014955,\n",
       " 0.8732964505226035,\n",
       " 1.6853543098103603,\n",
       " 1.1985867471088048,\n",
       " 0.7166806879581544,\n",
       " 0.02955249641087291,\n",
       " 0.4134465297933024,\n",
       " 0.0573088646028949,\n",
       " 0.6029000639101868,\n",
       " 0.08439512114714778,\n",
       " 0.12112870741488196,\n",
       " 0.4596323636971756,\n",
       " 0.941595144226358,\n",
       " 0.4564172987517449,\n",
       " 0.8654484195338071,\n",
       " 0.09833174387489736,\n",
       " 0.8835487167847188,\n",
       " 0.4361996963972137,\n",
       " 0.6049031009939332,\n",
       " 0.4648695247552936,\n",
       " 0.8925531195040142,\n",
       " 0.4849866704760398,\n",
       " 0.14868683219476844,\n",
       " 0.9366799018353896,\n",
       " 0.7477371293146792,\n",
       " 2.24344863431879,\n",
       " 0.5757807974964643,\n",
       " 2.398849440521984,\n",
       " 0.25395143283291044,\n",
       " 0.39459674477334383,\n",
       " 2.0358436735070025,\n",
       " 0.1912661866813398,\n",
       " 0.12348069424794814,\n",
       " 0.15416366031030332,\n",
       " 0.7042899809169768,\n",
       " 0.3685474101679668,\n",
       " 0.37742043260721947,\n",
       " 0.8939761080382614,\n",
       " 1.3587684043878445,\n",
       " 0.5232882447347469,\n",
       " 2.3053727571589437,\n",
       " 1.0007474136666397,\n",
       " 0.6504386521427654,\n",
       " 1.3864187851752732,\n",
       " 0.857276390856759,\n",
       " 0.1342608041343997,\n",
       " 0.10024514403467308,\n",
       " 0.05489483402941978,\n",
       " 0.036591591125683574,\n",
       " 1.2538044936821724,\n",
       " 1.2349585118123492,\n",
       " 0.4452961115237284,\n",
       " 2.3597290176206793,\n",
       " 0.5145653727885734,\n",
       " 1.4954889961843425,\n",
       " 4.214251449225138,\n",
       " 3.5965715839138133,\n",
       " 0.7223803051337357,\n",
       " 1.3239980040763006,\n",
       " 3.56877430009842,\n",
       " 0.041463661556724284,\n",
       " 0.7778038341933182,\n",
       " 0.5840795311351311,\n",
       " 1.7945916765360508,\n",
       " 0.19417933323864633,\n",
       " 0.7010179271345015,\n",
       " 0.3245811229835477,\n",
       " 1.3488056580128176,\n",
       " 2.5735711470501035,\n",
       " 0.37718968673965036,\n",
       " 1.7460220124850652,\n",
       " 1.6646814838669834,\n",
       " 0.5372478243484909,\n",
       " 3.903294069936754,\n",
       " 0.7105539968666652,\n",
       " 0.6052643099919631,\n",
       " 0.9046121728133829,\n",
       " 1.8753757178674464,\n",
       " 0.009394636907559354,\n",
       " 0.10190080380011209,\n",
       " 0.5378554476113268,\n",
       " 1.5934772174861547,\n",
       " 0.8159643942695193,\n",
       " 0.04406084007223856,\n",
       " 2.117075974135187,\n",
       " 1.2852667158955116,\n",
       " 0.10194525746308251,\n",
       " 0.27495656251917433,\n",
       " 0.7889574017594472,\n",
       " 0.3756704850752833,\n",
       " 0.642873086580214,\n",
       " 1.9655936872446762,\n",
       " 0.19694989822594808,\n",
       " 2.301318415151658,\n",
       " 0.41867067881154785,\n",
       " 0.1853732549627333,\n",
       " 1.689797999823072,\n",
       " 0.6555691091644027,\n",
       " 1.9699795896885948,\n",
       " 1.713864366812783,\n",
       " 0.6033601489592063,\n",
       " 0.0611121967194148,\n",
       " 0.29856200740777367,\n",
       " 0.24179714617672193,\n",
       " 1.3958131093343948,\n",
       " 0.840367627671803,\n",
       " 0.3190154516734585,\n",
       " 0.14575565345464664,\n",
       " 1.0569111625927283,\n",
       " 1.7938464651222061,\n",
       " 4.05371969113555,\n",
       " 0.7637012341175755,\n",
       " 2.1052363604863027,\n",
       " 3.400568427498975,\n",
       " 1.882622524464426,\n",
       " 0.435931043819133,\n",
       " 3.553925138728611,\n",
       " 0.0529922577860696,\n",
       " 0.898589919523894,\n",
       " 0.8359551216848,\n",
       " 1.5666508866509705,\n",
       " 0.44515994186407354,\n",
       " 0.3734890795235914,\n",
       " 1.372055227508209,\n",
       " 2.755054004177531,\n",
       " 0.6315058743517783,\n",
       " 0.6578886962242143,\n",
       " 0.7440118654079483,\n",
       " 1.7764754505252556,\n",
       " 0.1447100996516218,\n",
       " 0.18083026812753103,\n",
       " 2.8368969840334235,\n",
       " 0.12524026175916228,\n",
       " 1.5060792494606396,\n",
       " 1.1254853406282694,\n",
       " 1.531171077043381,\n",
       " 0.25685558266263897,\n",
       " 0.016027835981216813,\n",
       " 1.6927489986996076,\n",
       " 0.9934195062627127,\n",
       " 0.1682231326761717,\n",
       " 0.8098560061831587,\n",
       " 0.7192371849588748,\n",
       " 0.03568227274789302,\n",
       " 1.2397834337531417,\n",
       " 0.19436944614430693,\n",
       " 0.26050196927624597,\n",
       " 1.8676493437916368,\n",
       " 0.5739867374197704,\n",
       " 0.683613483586724,\n",
       " 0.0074864563706589045,\n",
       " 0.21890316897749612,\n",
       " 3.3001942746333928,\n",
       " 0.1867712866377581,\n",
       " 0.1654800140923785,\n",
       " 0.9201549962182272,\n",
       " 1.1596578920877283,\n",
       " 1.4097572285020983,\n",
       " 0.07119253643775393,\n",
       " 0.8384272812032884,\n",
       " 0.36610594831512755,\n",
       " 1.4827926899525066,\n",
       " 0.0035540706469171673,\n",
       " 0.5717785988984508,\n",
       " 0.9573923058478659,\n",
       " 0.6781099755744491,\n",
       " 0.1772750431912058,\n",
       " 0.5544907745709979,\n",
       " 0.123807159824734,\n",
       " 0.06027018991157453,\n",
       " 0.6118332045041491,\n",
       " 0.3923861756485322,\n",
       " 0.16354767452822364,\n",
       " 0.6599718394574561,\n",
       " 1.8550080886177223,\n",
       " 0.2847644000305374,\n",
       " 0.15152800694497706,\n",
       " 0.24939676010263837,\n",
       " 1.3932187845386523,\n",
       " 0.8352764866906369,\n",
       " 0.16249730715425448,\n",
       " 1.3554081272425353,\n",
       " 0.2101253903835294,\n",
       " 0.8634969684774162,\n",
       " 0.2112764135050999,\n",
       " 0.14364984003685852,\n",
       " 0.8998176985495814,\n",
       " 0.7589131769702028,\n",
       " 0.050876458700811526,\n",
       " 2.5370198039064173,\n",
       " 1.132375579708305,\n",
       " 1.4626938123870272,\n",
       " 2.5214052620624305,\n",
       " 0.030738050580993277,\n",
       " 1.458764827279688,\n",
       " 0.0560174913085211,\n",
       " 0.6780081429259759,\n",
       " 0.6247260352632811,\n",
       " 0.14325035442302894,\n",
       " 0.7296027132500088,\n",
       " 2.0646624075911832,\n",
       " 0.7840156671992983,\n",
       " 0.32829431805960685,\n",
       " 0.5342012434192833,\n",
       " 1.0687583406646743,\n",
       " 0.10516672437512467,\n",
       " 1.5388223977760944,\n",
       " 0.34181460312981243,\n",
       " 2.2877431470056817,\n",
       " 1.4526281028565822,\n",
       " 0.23979072483234803,\n",
       " 2.277194747662751,\n",
       " 1.6130704028105667,\n",
       " 0.045124415407826635,\n",
       " 0.36822315739093536,\n",
       " 1.8955769714370263,\n",
       " 1.5088096660329677,\n",
       " 0.7024958984453545,\n",
       " 2.7280068770257597,\n",
       " 0.9496172746103918,\n",
       " 1.160740928951348,\n",
       " 3.35407538212089,\n",
       " 0.05326948835649019,\n",
       " 3.091151016054998,\n",
       " 2.265086129704552,\n",
       " 1.3172565374700504,\n",
       " 0.9276990670480575,\n",
       " 1.5638792155521906,\n",
       " 0.7189909389648373,\n",
       " 1.6377284008033233,\n",
       " 0.16578191840456266,\n",
       " 2.497363813008281,\n",
       " 0.2538182873384347,\n",
       " 1.2059287394516311,\n",
       " 0.9140043913853488,\n",
       " 5.0720342522887565,\n",
       " 0.11211810489481747,\n",
       " 0.6234560587510557,\n",
       " 2.3886330644310165,\n",
       " 1.631427675989224,\n",
       " 0.5325939563291061,\n",
       " 2.1142317530838035,\n",
       " 0.8874951237477565,\n",
       " 0.5036143675390796,\n",
       " 0.20210058620103394,\n",
       " 0.597822577678312,\n",
       " 1.5679180953878855,\n",
       " 0.3552119779691444,\n",
       " 0.5703545220085174,\n",
       " 0.5439294526824583,\n",
       " 0.0029139341968139956,\n",
       " 0.0621215651981534,\n",
       " 2.00405101323124,\n",
       " 0.08658985690462045,\n",
       " 0.012445707927559778,\n",
       " 0.434412284743701,\n",
       " 0.5563532097189025,\n",
       " 0.40130100304021415,\n",
       " 1.3078684104480214,\n",
       " 2.0783700264504614,\n",
       " 0.4914079561990231,\n",
       " 0.8711409914539404,\n",
       " 1.1587614417526642,\n",
       " 1.9916278086928478,\n",
       " 0.40576559383646904,\n",
       " 0.28187074278235935,\n",
       " 1.4397292741608338,\n",
       " 0.09672895581606049,\n",
       " 0.3881493496266609,\n",
       " 3.1011662975307193,\n",
       " 0.8913614401636442,\n",
       " 1.901539809690494,\n",
       " 0.7288342469708124,\n",
       " 1.7230058220507056,\n",
       " 0.8875860061090526,\n",
       " 0.30705705592313753,\n",
       " 0.09268724280829585,\n",
       " 0.9909565846212415,\n",
       " 0.13809684643338724,\n",
       " 0.3889478136819276,\n",
       " 0.73871911380078,\n",
       " 1.636859395772119,\n",
       " 0.43459840126856897,\n",
       " 0.21304519976272585,\n",
       " 0.6619143462186635,\n",
       " 1.7543066777379073,\n",
       " 1.094868529236035,\n",
       " 0.4423717183492503,\n",
       " 1.4931734417510458,\n",
       " 0.1457039198214668,\n",
       " 1.5922879048284895,\n",
       " 1.2873867712341083,\n",
       " 0.02824104258973784,\n",
       " 0.29248806526231697,\n",
       " 0.18857687491241695,\n",
       " 0.1092949647564746,\n",
       " 0.6892586151149909,\n",
       " 0.37433895678489953,\n",
       " 1.1094390816576298,\n",
       " 0.14987791014756097,\n",
       " 0.2735903281033411,\n",
       " 1.007734001109246,\n",
       " 0.45338570653502197,\n",
       " 0.8826065188408089,\n",
       " 0.6088751937470905,\n",
       " 0.06594217970898059,\n",
       " 2.2653634938871137,\n",
       " 1.0936386251175465,\n",
       " 0.9777109824124768,\n",
       " 0.922672476961408,\n",
       " 0.1412491943683273,\n",
       " 1.4849277603420117,\n",
       " 1.0396303897558508,\n",
       " 0.20944981930655387,\n",
       " 0.8953643059517459,\n",
       " 0.6113504911467312,\n",
       " 1.9708081106796598,\n",
       " 1.5755630557738107]"
      ]
     },
     "execution_count": 108,
     "metadata": {},
     "output_type": "execute_result"
    }
   ],
   "source": [
    "# Solution here\n",
    "import math as m\n",
    "def expon(x,a):\n",
    "    if (x>=0):\n",
    "        return m.exp(-a*x)*a\n",
    "    else:\n",
    "        return 0\n",
    "def exp_reverse(x,a):\n",
    "    return m.log(1-x)/(-a)\n",
    "fig,(ax1, ax2) = plt.subplots(1,2,figsize=(15, 3))\n",
    "exp=[exp_reverse(np.random.uniform(),1) for i in range(1000)]\n",
    "x=np.linspace(0,5,1000)\n",
    "ax1.plot(x,[expon(x[i],1) for i in range(1000)])\n",
    "ax1.set_title('График плотности экспоненциального распределения')\n",
    "ax2.hist(exp)\n",
    "ax2.set_title(\"Гистограмма сгенерированной выборки\")\n",
    "plt.show()\n",
    "exp"
   ]
  },
  {
   "cell_type": "markdown",
   "metadata": {
    "colab_type": "text",
    "id": "UEtDHxDUdiZM"
   },
   "source": [
    "### Rejection sampling (Accept-reject method)\n",
    "\n",
    "Идея метода: сэмплить из распределения, из которого умеем, а затем отбирать точки, которые следуют нужному распределению. Картинка иллюстрирует идею метода:\n",
    "<img src=https://colcarroll.github.io/hamiltonian_monte_carlo_talk/images/bayes_talk.015.png style=\"width: 50%;\"/>\n",
    " "
   ]
  },
  {
   "cell_type": "markdown",
   "metadata": {
    "colab_type": "text",
    "id": "Tgzc6QjxdiZN"
   },
   "source": [
    "### Задача\n",
    "Обоснуйте, что метод accept-reject действительно производит выборку из нужного распределения. Смоделируйте 1000 точек из усеченного распределения Коши, приведенного ниже, используя генератор равномерного распределения. Нарисуйте график полученной выборочной гистограммы и сравните его с графиком точной функции плотности."
   ]
  },
  {
   "cell_type": "code",
   "execution_count": 5,
   "metadata": {
    "colab": {},
    "colab_type": "code",
    "id": "06HcUVFBdiZN",
    "outputId": "05beb147-ff36-4ab9-f4ac-ea6686cb7cb1",
    "scrolled": true
   },
   "outputs": [
    {
     "data": {
      "image/png": "[encoded data removed]",
      "text/plain": [
       "<Figure size 432x288 with 1 Axes>"
      ]
     },
     "metadata": {
      "needs_background": "light"
     },
     "output_type": "display_data"
    }
   ],
   "source": [
    "from scipy import stats\n",
    "import numpy as np\n",
    "dist = stats.cauchy()\n",
    "x = np.linspace(-4, 4, 100)\n",
    "plt.fill_between(x, 0, dist.pdf(x)) #needs to be normalized!\n",
    "plt.show()"
   ]
  },
  {
   "cell_type": "code",
   "execution_count": 10,
   "metadata": {
    "colab": {},
    "colab_type": "code",
    "id": "O6uRvW8pdiZP"
   },
   "outputs": [
    {
     "data": {
      "image/png": "[encoded data removed]",
      "text/plain": [
       "<Figure size 432x288 with 1 Axes>"
      ]
     },
     "metadata": {
      "needs_background": "light"
     },
     "output_type": "display_data"
    }
   ],
   "source": [
    "# Solution here\n",
    "#смоделируем 1000 точек для плотности Коши\n",
    "x =np.random.uniform(-4, 4, 1000)\n",
    "#x=np.linspace(-4,4,1000)\n",
    "s=[]\n",
    "for i in range (1000):\n",
    "    while len(s)<i+1:\n",
    "        samp1=np.random.uniform(0,dist.pdf(0))\n",
    "        if(samp1<=dist.pdf(x[i])):            s.append(samp1)\n",
    "plt.bar(x,s)\n",
    "plt.show()"
   ]
  },
  {
   "cell_type": "code",
   "execution_count": 35,
   "metadata": {},
   "outputs": [
    {
     "data": {
      "image/png": "[encoded data removed]",
      "text/plain": [
       "<Figure size 432x288 with 1 Axes>"
      ]
     },
     "metadata": {
      "needs_background": "light"
     },
     "output_type": "display_data"
    }
   ],
   "source": [
    "#посмотрим на полученную выборку\n",
    "y= np.array(s)\n",
    "y=y/sum(y)\n",
    "sample=np.random.choice(x,size=1000,p=y)\n",
    "plt.hist(sample,bins=np.arange(-4,4.5,0.5),color='r')\n",
    "plt.show()\n"
   ]
  },
  {
   "cell_type": "markdown",
   "metadata": {
    "colab_type": "text",
    "id": "kq8tMmPYdiZS"
   },
   "source": [
    "##  Coordinate transformation method\n",
    "\n",
    "Метод аccept-reject в ряде случаев может оказываться неэффективным и требовать слишком много пробных точек. Альтернатива -  попробовать найти преобразование координат, которое переводит простую область (из которой легко сэмплить, например, едининчный квадрат) в требуемую, но при этом сохраняет соотношение площадей."
   ]
  },
  {
   "cell_type": "markdown",
   "metadata": {
    "colab_type": "text",
    "id": "xGIRsM7KdiZS"
   },
   "source": [
    "### Задача\n",
    "Смоделировать выборку из 500 точек равномерно распределенных внутри данного треугольника без использования метода отбора. "
   ]
  },
  {
   "cell_type": "code",
   "execution_count": 102,
   "metadata": {
    "colab": {},
    "colab_type": "code",
    "id": "V-aQwOVvdiZT",
    "outputId": "d6e9958f-57ab-4224-9974-13bc6b7bc351"
   },
   "outputs": [
    {
     "data": {
      "image/png": "[encoded data removed]",
      "text/plain": [
       "<Figure size 432x288 with 1 Axes>"
      ]
     },
     "metadata": {
      "needs_background": "light"
     },
     "output_type": "display_data"
    }
   ],
   "source": [
    "import matplotlib\n",
    "from matplotlib.patches import Polygon\n",
    "from matplotlib.collections import PatchCollection\n",
    "def func():\n",
    "    x,y=sorted([np.random.rand(),np.random.rand()])\n",
    "    return (x * 0.1 + (y-x)*0.2 + (1-y)*0.8, x * 0.2 + (y-x)*0.9 + (1-y)*0.1)\n",
    "s=[func() for i in range (500)]\n",
    "s=np.array(s)\n",
    "\n",
    "polygon = Polygon(0.1 * np.array([[1, 2], [2, 9], [8, 1]]), True)\n",
    "plt.gca().add_collection(PatchCollection([polygon]))\n",
    "plt.show()"
   ]
  },
  {
   "cell_type": "code",
   "execution_count": 103,
   "metadata": {
    "colab": {},
    "colab_type": "code",
    "id": "_x5KNetcdiZU"
   },
   "outputs": [
    {
     "data": {
      "image/png": "[encoded data removed]",
      "text/plain": [
       "<Figure size 432x288 with 1 Axes>"
      ]
     },
     "metadata": {
      "needs_background": "light"
     },
     "output_type": "display_data"
    }
   ],
   "source": [
    "plt.scatter(s[:,0], s[:,1])\n",
    "plt.show()"
   ]
  },
  {
   "cell_type": "markdown",
   "metadata": {
    "colab_type": "text",
    "id": "p69CWYlBdiZW"
   },
   "source": [
    "### Задача\n",
    "Смоделировать выборку из 500 точек внутри данного круга без использования метода отбора."
   ]
  },
  {
   "cell_type": "code",
   "execution_count": 0,
   "metadata": {
    "colab": {},
    "colab_type": "code",
    "id": "trOeYSO9diZW",
    "outputId": "aaa9d07a-96da-4f86-cd68-06c5a5da7c2d"
   },
   "outputs": [
    {
     "data": {
      "image/png": "[encoded data removed]",
      "text/plain": [
       "<matplotlib.figure.Figure at 0x9176748>"
      ]
     },
     "metadata": {
      "tags": []
     },
     "output_type": "display_data"
    }
   ],
   "source": [
    "from matplotlib.patches import Circle\n",
    "t = np.linspace(0, 2 * np.pi, 100)\n",
    "plt.plot(np.sin(t), np.cos(t))\n",
    "plt.axis('equal')\n",
    "plt.show()"
   ]
  },
  {
   "cell_type": "code",
   "execution_count": 125,
   "metadata": {
    "colab": {},
    "colab_type": "code",
    "id": "D9qZcU9OdiZY"
   },
   "outputs": [
    {
     "data": {
      "image/png": "[encoded data removed]",
      "text/plain": [
       "<Figure size 288x288 with 1 Axes>"
      ]
     },
     "metadata": {
      "needs_background": "light"
     },
     "output_type": "display_data"
    }
   ],
   "source": [
    "# Solution here\n",
    "r=np.sqrt(np.random.rand(500))\n",
    "phi=np.random.rand(500)\n",
    "plt.figure(figsize=(4, 4))\n",
    "plt.scatter(r*np.cos(2*np.pi*phi),r*np.sin(2*np.pi*phi))\n",
    "plt.show()\n"
   ]
  },
  {
   "cell_type": "markdown",
   "metadata": {
    "colab_type": "text",
    "id": "EyDObV-ty70e"
   },
   "source": [
    "### Задача\n",
    "Напишите функцию, которая моделирует случайное симметричное блуждание на двумерной решетке длины n c началом и концом в точке (0, 0). Приведите графики выборочных траекторий для n=100."
   ]
  },
  {
   "cell_type": "code",
   "execution_count": 54,
   "metadata": {
    "colab": {},
    "colab_type": "code",
    "id": "iaSUB9Ocy8hU"
   },
   "outputs": [
    {
     "data": {
      "image/png": "[encoded data removed]",
      "text/plain": [
       "<Figure size 432x288 with 1 Axes>"
      ]
     },
     "metadata": {
      "needs_background": "light"
     },
     "output_type": "display_data"
    }
   ],
   "source": [
    "# Solution here\n",
    "def rwalk(n):\n",
    "  #повернем сетку на 45 градусов чтобы движения на плоскости стали независимыми: т.е точка в след момент времени \n",
    "# может перейти в (1,1),(-1,1),(-1,-1) или (1,-1). Потом повернем обратно.\n",
    "    x,y=(np.ones(n),np.ones(n))\n",
    "    ind1=np.random.choice(np.arange(n),size=n//2,replace=False)\n",
    "    ind2=np.random.choice(np.arange(n),size=n//2,replace=False)\n",
    "    x[ind1]=-1\n",
    "    y[ind2]=-1\n",
    "    x=np.cumsum(x)\n",
    "    y=np.cumsum(y)\n",
    "    x=(x+y)/2\n",
    "    y=(x-y)/2\n",
    "    x=np.insert(x,0,0)\n",
    "    y=np.insert(y,0,0)\n",
    "    plt.plot(x,y)\n",
    "    plt.show() \n",
    "rwalk(100)"
   ]
  },
  {
   "cell_type": "markdown",
   "metadata": {
    "colab_type": "text",
    "id": "FV7suL2pdiZa"
   },
   "source": [
    "## Random normal generator"
   ]
  },
  {
   "cell_type": "markdown",
   "metadata": {
    "colab_type": "text",
    "id": "YalKYO-bdiZb"
   },
   "source": [
    "### Задача\n",
    "Докажите, что приведенный ниже алгоритм (Box-Muller algorithm) формирует выборку из независимых N(0,1) случаных величин. Модифицируйте метод, чтобы исключить вызовы тригонометрических функций ```np.sin``` и ```np.cos```. С помощью модивицированного метода смоделируйте выборку объема 1000 из двумерного гауссовского распределения со средним (3, 6) и ковариационной матрицей ((2, 1), (1, 4)). Постройте 2D гистограмму полученного распределения."
   ]
  },
  {
   "cell_type": "code",
   "execution_count": 0,
   "metadata": {
    "colab": {},
    "colab_type": "code",
    "id": "L2ZJeRoJdiZc",
    "outputId": "5d57c746-0ffd-48d1-de6e-c4276349b305"
   },
   "outputs": [
    {
     "data": {
      "image/png": "[encoded data removed]",
      "text/plain": [
       "<matplotlib.figure.Figure at 0x1970da90>"
      ]
     },
     "metadata": {
      "tags": []
     },
     "output_type": "display_data"
    }
   ],
   "source": [
    "n = 1000\n",
    "u1, u2 = np.random.rand(2, n)\n",
    "r = np.sqrt(-2 * np.log(u1))\n",
    "theta = 2 * np.pi * u2\n",
    "x = r * np.cos(theta)\n",
    "y = r * np.sin(theta)\n",
    "fig, ax = plt.subplots(1, 3, figsize=(15, 5))\n",
    "ax[0].hist2d(x, y, bins=30)\n",
    "ax[0].axis('equal')\n",
    "ax[1].hist(x, bins=30)\n",
    "ax[2].hist(y, bins=30)\n",
    "ax[0].set_title(\"2d histogram\")\n",
    "ax[1].set_title(\"Histogram of x\")\n",
    "ax[2].set_title(\"Histogram of y\")\n",
    "plt.show()"
   ]
  },
  {
   "cell_type": "code",
   "execution_count": 59,
   "metadata": {},
   "outputs": [
    {
     "data": {
      "image/png": "[encoded data removed]",
      "text/plain": [
       "<Figure size 1080x360 with 3 Axes>"
      ]
     },
     "metadata": {
      "needs_background": "light"
     },
     "output_type": "display_data"
    }
   ],
   "source": [
    "# Solution here, модификация:\n",
    "n = 1000\n",
    "u1=np.array([])\n",
    "u2=np.array([])\n",
    "R=np.array([])\n",
    "for i in range (n):\n",
    "    while len(u1)<i+1:\n",
    "        x,y=np.random.uniform(-1,1,2)\n",
    "        r=x**2+y**2\n",
    "        if(0<r<=1):            \n",
    "            u1=np.append(x,u1)\n",
    "            u2=np.append(y,u2)\n",
    "            R=np.append(r,R)\n",
    "\n",
    "k = np.sqrt((-2 * np.log(R))/R)\n",
    "x = u1 * k\n",
    "y = u2 * k\n",
    "fig, ax = plt.subplots(1, 3, figsize=(15, 5))\n",
    "ax[0].hist2d(x, y, bins=30)\n",
    "ax[0].axis('equal')\n",
    "ax[1].hist(x, bins=30)\n",
    "ax[2].hist(y, bins=30)\n",
    "ax[0].set_title(\"2d histogram\")\n",
    "ax[1].set_title(\"Histogram of x\")\n",
    "ax[2].set_title(\"Histogram of y\")\n",
    "plt.show()"
   ]
  },
  {
   "cell_type": "code",
   "execution_count": 60,
   "metadata": {},
   "outputs": [
    {
     "data": {
      "image/png": "[encoded data removed]",
      "text/plain": [
       "<Figure size 720x576 with 1 Axes>"
      ]
     },
     "metadata": {
      "needs_background": "light"
     },
     "output_type": "display_data"
    }
   ],
   "source": [
    "#сейчас имеем двумерный вектор (0,E). надо построить вектор ((3,6) - матожидание, ((2, 1), (1, 4)) - ковариационная матрица)\n",
    "#для этого надо сделать преобразование A*x+b, где b - вектор ожиданий.A такая, что А*A^T=наша искомая ковариационная матрица\n",
    "x1= (1/2)*x+(np.sqrt(7)/2)*y+3 #сдвинули на матожидание и умножили на матрицу, которая находится через решение системы\n",
    "y1=2*x+6\n",
    "fig = plt.figure(figsize=(10,8))\n",
    "plt.hist2d(x1, y1, bins=30)\n",
    "plt.show()"
   ]
  },
  {
   "cell_type": "markdown",
   "metadata": {
    "colab_type": "text",
    "id": "14IvUqPM35xs"
   },
   "source": [
    "## Практическое задание\n",
    "\n",
    "Реализовать метод генерации случайного разбиения n-элементного множества на подмножества. С его помощью оценить ожидаемое число подмножеств в случайном разбиении множества из 100 элементов. \n",
    "\n",
    "Подсказка 1: Ширяев, Вероятность, т1, задача 2 к параграфу 1.\n",
    "\n",
    "Подсказка 2: http://djalil.chafai.net/blog/2012/05/03/generating-uniform-random-partitions/"
   ]
  },
  {
   "cell_type": "code",
   "execution_count": 159,
   "metadata": {
    "colab": {},
    "colab_type": "code",
    "id": "XrRiVz6idiZk"
   },
   "outputs": [
    {
     "data": {
      "text/plain": [
       "array([16, 26, 20, 27, 28, 28, 15,  3,  9,  5, 28, 16, 26,  1, 12,  4, 22,\n",
       "        3, 23, 24, 25, 16, 15, 24,  6, 12,  5,  5, 20, 23, 25, 17,  5, 26,\n",
       "        2, 15, 26,  9,  9, 15, 10, 22, 18, 22,  1, 12, 18, 20,  4, 27, 12,\n",
       "       17, 17,  9, 10,  7, 19,  8, 23, 29, 12,  4, 23, 15, 29, 17, 17,  9,\n",
       "       13, 16,  8, 14, 12, 29, 15, 26, 22, 14, 22, 10, 18, 10, 24, 11, 16,\n",
       "        6, 18, 24, 29, 23, 17,  7,  4, 28, 20, 29,  2,  2, 21,  5])"
      ]
     },
     "execution_count": 159,
     "metadata": {},
     "output_type": "execute_result"
    }
   ],
   "source": [
    "# Solution here\n",
    "n=100\n",
    "def subset (n):\n",
    "    B=0\n",
    "    for k in range (171):\n",
    "        B=B+(k**n)/(np.math.factorial(k)*np.exp(1))\n",
    "    K=np.random.choice(np.arange(1,n+1),p=[k**n/(B*np.exp(1)*np.math.factorial(k)) for k in range (1,n+1)])\n",
    "    return np.random.choice(np.arange(1,K+1),size=n)\n",
    "subset(n)"
   ]
  },
  {
   "cell_type": "code",
   "execution_count": 162,
   "metadata": {},
   "outputs": [
    {
     "data": {
      "text/plain": [
       "28.601"
      ]
     },
     "execution_count": 162,
     "metadata": {},
     "output_type": "execute_result"
    }
   ],
   "source": [
    "C=[len(np.unique(subset(n))) for k in range(1000)]\n",
    "np.mean(C)"
   ]
  }
 ],
 "metadata": {
  "colab": {
   "collapsed_sections": [],
   "name": "Random_numbers.ipynb",
   "provenance": []
  },
  "kernelspec": {
   "display_name": "Python 3",
   "language": "python",
   "name": "python3"
  },
  "language_info": {
   "codemirror_mode": {
    "name": "ipython",
    "version": 3
   },
   "file_extension": ".py",
   "mimetype": "text/x-python",
   "name": "python",
   "nbconvert_exporter": "python",
   "pygments_lexer": "ipython3",
   "version": "3.7.0"
  }
 },
 "nbformat": 4,
 "nbformat_minor": 1
}
