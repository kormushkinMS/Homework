{
 "cells": [
  {
   "cell_type": "code",
   "execution_count": 1,
   "metadata": {},
   "outputs": [
    {
     "name": "stderr",
     "output_type": "stream",
     "text": [
      "Downloading 20news dataset. This may take a few minutes.\n",
      "Downloading dataset from https://ndownloader.figshare.com/files/5975967 (14 MB)\n"
     ]
    }
   ],
   "source": [
    "#загрузим библиотеку и посмотрим на текста:\n",
    "import numpy as np\n",
    "from sklearn.datasets import fetch_20newsgroups\n",
    "\n",
    "newsgroups_train = fetch_20newsgroups(subset='train', remove=('headers', 'footers', 'quotes'))"
   ]
  },
  {
   "cell_type": "code",
   "execution_count": 3,
   "metadata": {},
   "outputs": [
    {
     "data": {
      "text/plain": [
       "['alt.atheism',\n",
       " 'comp.graphics',\n",
       " 'comp.os.ms-windows.misc',\n",
       " 'comp.sys.ibm.pc.hardware',\n",
       " 'comp.sys.mac.hardware',\n",
       " 'comp.windows.x',\n",
       " 'misc.forsale',\n",
       " 'rec.autos',\n",
       " 'rec.motorcycles',\n",
       " 'rec.sport.baseball',\n",
       " 'rec.sport.hockey',\n",
       " 'sci.crypt',\n",
       " 'sci.electronics',\n",
       " 'sci.med',\n",
       " 'sci.space',\n",
       " 'soc.religion.christian',\n",
       " 'talk.politics.guns',\n",
       " 'talk.politics.mideast',\n",
       " 'talk.politics.misc',\n",
       " 'talk.religion.misc']"
      ]
     },
     "execution_count": 3,
     "metadata": {},
     "output_type": "execute_result"
    }
   ],
   "source": [
    "newsgroups_train.target_names"
   ]
  },
  {
   "cell_type": "code",
   "execution_count": 6,
   "metadata": {},
   "outputs": [
    {
     "name": "stdout",
     "output_type": "stream",
     "text": [
      "sci.med\n",
      "\n",
      "I have a new doctor who gave me a prescription today for something called \n",
      "Septra DS.  He said it may cause GI problems and I have a sensitive stomach \n",
      "to begin with.  Anybody ever taken this antibiotic.  Any good?  Suggestions \n",
      "for avoiding an upset stomach?  Other tips?\n",
      "\n"
     ]
    }
   ],
   "source": [
    "n=1249\n",
    "print(newsgroups_train.target_names[newsgroups_train.target[n]])\n",
    "print(newsgroups_train.data[n])"
   ]
  },
  {
   "cell_type": "code",
   "execution_count": 15,
   "metadata": {},
   "outputs": [
    {
     "data": {
      "text/plain": [
       "CountVectorizer(analyzer='word', binary=True, decode_error='strict',\n",
       "        dtype=<class 'numpy.int64'>, encoding='utf-8', input='content',\n",
       "        lowercase=True, max_df=0.04, max_features=None, min_df=10,\n",
       "        ngram_range=(1, 1), preprocessor=None,\n",
       "        stop_words=frozenset({'sometime', 'was', 'would', 'third', 'cannot', 'bottom', 'each', 'everyone', 'wherein', 'hereupon', 'almost', 'some', 'twenty', 'against', 'off', 'became', 'thin', 'moreover', 'our', 'because', 'neither', 'once', 'herself', 'less', 'now', 'noone', 'under', 'in', 'not', 'please'... 'than', 'couldnt', 'forty', 'beforehand', 'ourselves', 'have', 'well', 'above', 'whereas', 'call'}),\n",
       "        strip_accents=None, token_pattern='(?u)\\\\b\\\\w\\\\w+\\\\b',\n",
       "        tokenizer=None, vocabulary=None)"
      ]
     },
     "execution_count": 15,
     "metadata": {},
     "output_type": "execute_result"
    }
   ],
   "source": [
    "#загрузим векторайзер\n",
    "from sklearn.feature_extraction.text import CountVectorizer\n",
    "from sklearn.feature_extraction.stop_words import ENGLISH_STOP_WORDS\n",
    "\n",
    "vectorizer = CountVectorizer(lowercase=True, stop_words=ENGLISH_STOP_WORDS,\n",
    "                             analyzer='word', binary=True,min_df=10, max_df=.04)\n",
    "vectorizer.fit(newsgroups_train.data)"
   ]
  },
  {
   "cell_type": "code",
   "execution_count": 16,
   "metadata": {},
   "outputs": [
    {
     "data": {
      "text/plain": [
       "10091"
      ]
     },
     "execution_count": 16,
     "metadata": {},
     "output_type": "execute_result"
    }
   ],
   "source": [
    "vectorizer.vocabulary_.get('window')"
   ]
  },
  {
   "cell_type": "code",
   "execution_count": 17,
   "metadata": {},
   "outputs": [
    {
     "data": {
      "text/plain": [
       "[array(['car', 'enlighten', 'saw', 'wondering'], dtype='<U79')]"
      ]
     },
     "execution_count": 17,
     "metadata": {},
     "output_type": "execute_result"
    }
   ],
   "source": [
    "text = 'I was wondering if anyone out there could enlighten me on this car I saw'\n",
    "x = vectorizer.transform([text])\n",
    "vectorizer.inverse_transform(x)"
   ]
  },
  {
   "cell_type": "code",
   "execution_count": 18,
   "metadata": {},
   "outputs": [
    {
     "data": {
      "text/plain": [
       "array([1, 1, 1, 1], dtype=int64)"
      ]
     },
     "execution_count": 18,
     "metadata": {},
     "output_type": "execute_result"
    }
   ],
   "source": [
    "x.data"
   ]
  },
  {
   "cell_type": "code",
   "execution_count": 19,
   "metadata": {},
   "outputs": [
    {
     "data": {
      "text/plain": [
       "(11314, 10299)"
      ]
     },
     "execution_count": 19,
     "metadata": {},
     "output_type": "execute_result"
    }
   ],
   "source": [
    "X_train = vectorizer.fit_transform(newsgroups_train.data)\n",
    "X_train.shape"
   ]
  },
  {
   "cell_type": "code",
   "execution_count": 23,
   "metadata": {},
   "outputs": [],
   "source": [
    "\n",
    "from tqdm import tqdm\n",
    "\n",
    "def lda (X_train, K, alpha, beta, n_iter):\n",
    "    n_k_w = np.zeros((K, X_train.shape[1])) #заводим cчетчики\n",
    "    n_d_k = np.zeros((X_train.shape[0], K))\n",
    "    n_k = np.zeros(K)\n",
    "    \n",
    "    doc, word = X_train.nonzero()\n",
    "    tags = np.random.choice(K, len(doc)) #присваиваем всем словам случайные теги\n",
    "    \n",
    "    for w,d,t in zip(word, doc, tags):\n",
    "        n_k_w[t,w] += 1\n",
    "        n_d_k[d,t] += 1\n",
    "        n_k[t] +=1\n",
    "        \n",
    "        \n",
    "    for i in tqdm(range(n_iter)): #будем выполнять алгоритм n_iter раз (пока не сойдется к стационарному)\n",
    "        for j in range(len(doc)):\n",
    "            t = tags[j]\n",
    "            n_k_w[t,word[j]] -= 1\n",
    "            n_d_k[doc[j], t] -=1\n",
    "            n_k[t] -=1\n",
    "            \n",
    "            p = (n_d_k[doc[j], :] + alpha)*(n_k_w[:,word[j]] + beta[word[j]])/(n_k + beta.sum())\n",
    "            tags[j] = np.random.choice(np.arange(K), p = p / p.sum())\n",
    "            \n",
    "            n_k_w[tags[j], word[j]] += 1\n",
    "            n_d_k[ doc[j], tags[j]] += 1\n",
    "            n_k[tags[j]] += 1\n",
    "            \n",
    "    return n_k_w, n_d_k, n_k, tags\n",
    "            \n"
   ]
  },
  {
   "cell_type": "code",
   "execution_count": 24,
   "metadata": {},
   "outputs": [
    {
     "name": "stderr",
     "output_type": "stream",
     "text": [
      "100%|██████████████████████████████████████████| 50/50 [32:21<00:00, 41.80s/it]\n"
     ]
    }
   ],
   "source": [
    "K = 20\n",
    "n_k_w, n_d_k, n_k, tags = lda(X_train, K, np.ones(K), np.ones(X_train.shape[1]),50)"
   ]
  },
  {
   "cell_type": "code",
   "execution_count": 26,
   "metadata": {},
   "outputs": [
    {
     "name": "stdout",
     "output_type": "stream",
     "text": [
      "Topic №0:\t00\t100\t50\tcondition\toffer\toriginal\tprice\tsale\tsell\tshipping\n",
      "Topic №1:\tanswer\tcontrol\tcouldn\tfolks\tknows\tnewsgroup\treading\tsounds\ttom\twilling\n",
      "Topic №2:\t1993\taddress\tcenter\tcontact\tdate\tgeneral\tnasa\tresearch\tspace\tuniversity\n",
      "Topic №3:\tadvance\tcard\tcomputer\tdisk\tdos\thi\tmac\tmemory\tpc\tvideo\n",
      "Topic №4:\tcountry\tcrime\tfederal\tgun\tguns\tlaw\tlaws\tpolice\trights\tself\n",
      "Topic №5:\tbible\tchrist\tchristian\tchristians\tchurch\tfaith\tjesus\tlove\tman\treligion\n",
      "Topic №6:\tclinton\tdays\tmentioned\tmoney\tspend\ttax\tthank\ttold\twasn\tweek\n",
      "Topic №7:\tchip\tclipper\tencryption\tkey\tkeys\tnsa\tphone\tpublic\tsecure\tsecurity\n",
      "Topic №8:\t11\t12\t13\t14\t16\t17\t18\t19\t24\t25\n",
      "Topic №9:\tair\tanybody\tbuild\tcircuit\tcurrent\tground\theat\tones\tsmall\tsorry\n",
      "Topic №10:\tagree\targument\tclaim\tdiscussion\tevidence\tfeel\timportant\tmaking\tmatter\tmind\n",
      "Topic №11:\tchildren\tisrael\tisraeli\tjews\tkilled\tland\tleft\tmen\twar\twomen\n",
      "Topic №12:\tgame\tgames\thockey\tleague\tplay\tplayers\tseason\tteam\tteams\twin\n",
      "Topic №13:\tanybody\tappreciate\tcouple\tespecially\tguy\thear\tman\tnews\tsound\tstuff\n",
      "Topic №14:\tcause\tcaused\tdisease\tfood\tmedical\tresults\tsmall\tstudy\ttreatment\tusually\n",
      "Topic №15:\tbike\tcar\tcars\tengine\tfast\tleft\tmiles\troad\tspeed\tturn\n",
      "Topic №16:\tapplication\tcode\tdisplay\tfile\tfiles\tftp\trunning\tuser\tversion\twindow\n",
      "Topic №17:\tdeleted\tfigure\tguess\thand\thaven\tinteresting\tsaw\tsoon\tsort\tsubject\n",
      "Topic №18:\tdavid\texactly\tfolks\thear\they\tposting\treading\tsorry\tstuff\twondering\n",
      "Topic №19:\tanybody\tcheers\thappy\thello\tinfo\tlocal\tnet\tregards\tstay\tvice\n"
     ]
    }
   ],
   "source": [
    "top_words = np.argsort(n_k_w, axis=1)[:, :-11:-1]\n",
    "for i in range(20):\n",
    "    doc = np.zeros((1, X_train.shape[1]))\n",
    "    for j in top_words[i]:\n",
    "        doc[0, j] = 1\n",
    "    print('Topic №{}:\\t{}'.format(i, '\\t'.join(vectorizer.inverse_transform(doc)[0])))"
   ]
  },
  {
   "cell_type": "markdown",
   "metadata": {},
   "source": [
    "По топ словам можно понять некоторые топики: 2) космос 5) религия 6) talk.politics.guns 11) мидл ист 12)хоккей 15)машины \n",
    "естественно, при увеличении количества итераций и размера словаря - получили бы более точную характеристику топиков. Но для этого требуется больше времени\n"
   ]
  }
 ],
 "metadata": {
  "kernelspec": {
   "display_name": "Python 3",
   "language": "python",
   "name": "python3"
  },
  "language_info": {
   "codemirror_mode": {
    "name": "ipython",
    "version": 3
   },
   "file_extension": ".py",
   "mimetype": "text/x-python",
   "name": "python",
   "nbconvert_exporter": "python",
   "pygments_lexer": "ipython3",
   "version": "3.7.0"
  }
 },
 "nbformat": 4,
 "nbformat_minor": 2
}
