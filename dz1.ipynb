{
 "cells": [
  {
   "cell_type": "code",
   "execution_count": 1,
   "metadata": {
    "scrolled": false
   },
   "outputs": [
    {
     "name": "stdout",
     "output_type": "stream",
     "text": [
      "Type your number\n",
      "5\n",
      "Number is odd\n"
     ]
    }
   ],
   "source": [
    "#2\n",
    "print('Type your number')\n",
    "a=int(input())\n",
    "if a%2!=0:\n",
    "    print(\"Number is odd\")\n",
    "else:\n",
    "    print(\"Number is even\")\n",
    "    "
   ]
  },
  {
   "cell_type": "code",
   "execution_count": 2,
   "metadata": {
    "scrolled": true
   },
   "outputs": [
    {
     "name": "stdout",
     "output_type": "stream",
     "text": [
      "Type your name\n",
      "matthew\n",
      "Type your age\n",
      "20\n",
      "matthew will be 100 years old in 2099\n"
     ]
    }
   ],
   "source": [
    "#1\n",
    "print('Type your name')\n",
    "n=input()\n",
    "print(\"Type your age\")\n",
    "a=int(input())\n",
    "s=str((2019-a)+100)\n",
    "print(n+ \" will be 100 years old in \"+s)\n",
    "\n"
   ]
  },
  {
   "cell_type": "code",
   "execution_count": 3,
   "metadata": {},
   "outputs": [
    {
     "name": "stdout",
     "output_type": "stream",
     "text": [
      "1\n",
      "1\n",
      "2\n",
      "3\n",
      "4\n"
     ]
    }
   ],
   "source": [
    "#3 \n",
    "a = [1, 1, 2, 3, 5, 8, 13, 21, 34, 55, 4]\n",
    "for i in range (11):\n",
    "    if a[i]<5:\n",
    "        print(a[i])\n",
    "        \n",
    "    "
   ]
  },
  {
   "cell_type": "code",
   "execution_count": 4,
   "metadata": {},
   "outputs": [
    {
     "name": "stdout",
     "output_type": "stream",
     "text": [
      "type your number24\n",
      "[1, 2, 3, 4, 6, 8, 12, 24]\n"
     ]
    }
   ],
   "source": [
    "#4\n",
    "a=int(input('type your number'))\n",
    "i=1\n",
    "b=[]\n",
    "while i<=a:\n",
    "    if a%i==0:\n",
    "        b.append(i)\n",
    "    i=i+1    \n",
    "print(b)\n",
    "        \n",
    "    "
   ]
  },
  {
   "cell_type": "code",
   "execution_count": null,
   "metadata": {},
   "outputs": [
    {
     "name": "stdout",
     "output_type": "stream",
     "text": [
      "1st players weapon paper\n",
      "2nd players weapon rock\n",
      "player 1 wins! Do you want to play again? yes\n",
      "1st players weapon rock\n",
      "2nd players weapon rock\n"
     ]
    }
   ],
   "source": [
    "#8\n",
    "answer = 'yes'\n",
    "while answer == \"yes\":\n",
    "    a=str(input(\"1st players weapon \"))\n",
    "    b=str(input(\"2nd players weapon \"))\n",
    "    if (a=='rock'):\n",
    "        if(b=='paper'):\n",
    "            answer=input('player 2 wins! Do you want to play again? ')\n",
    "        elif(b=='scissors'):\n",
    "            answer=input('player 1 wins! Do you want to play again? ')\n",
    "        else:\n",
    "            answer=input(\"draw! Do you want to play again? \")\n",
    "    elif (a==\"scissors\"):\n",
    "        if(b==\"paper\"):\n",
    "            answer=input('player 1 wins! Do you want to play again? ')\n",
    "        elif(b=='rock'):\n",
    "            answer=input('player 2 wins! Do you want to play again? ')\n",
    "        else:\n",
    "             answer=input('draw! Do you want to play again? ')\n",
    "    else:\n",
    "        if(b=='scissors'):\n",
    "            answer=input('player 2 wins! Do you want to play again? ')\n",
    "        elif(b==\"rock\"):\n",
    "            answer=input('player 1 wins! Do you want to play again? ')\n",
    "        else:\n",
    "            answer=input('draw! Do you want to play again? ')\n",
    "              "
   ]
  },
  {
   "cell_type": "code",
   "execution_count": 2,
   "metadata": {},
   "outputs": [
    {
     "name": "stdout",
     "output_type": "stream",
     "text": [
      "Try to guess the number from 1 to 9 5\n",
      "too high! try again 3\n",
      "good joob! you are right! \n"
     ]
    }
   ],
   "source": [
    "#9\n",
    "import random\n",
    "i = random.randint(1, 9)\n",
    "j=int(input(\"Try to guess the number from 1 to 9 \"))\n",
    "while j!=i:\n",
    "    if(j>i):\n",
    "        j=int(input(\"too high! try again \"))\n",
    "    else:\n",
    "        j=int(input(\"too low! try again \"))\n",
    "print('good joob! you are right! ')"
   ]
  }
 ],
 "metadata": {
  "kernelspec": {
   "display_name": "Python 3",
   "language": "python",
   "name": "python3"
  },
  "language_info": {
   "codemirror_mode": {
    "name": "ipython",
    "version": 3
   },
   "file_extension": ".py",
   "mimetype": "text/x-python",
   "name": "python",
   "nbconvert_exporter": "python",
   "pygments_lexer": "ipython3",
   "version": "3.7.0"
  }
 },
 "nbformat": 4,
 "nbformat_minor": 2
}
